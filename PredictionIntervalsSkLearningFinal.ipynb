{
 "cells": [
  {
   "cell_type": "code",
   "execution_count": 1,
   "metadata": {},
   "outputs": [
    {
     "data": {
      "text/html": [
       "<div>\n",
       "<style scoped>\n",
       "    .dataframe tbody tr th:only-of-type {\n",
       "        vertical-align: middle;\n",
       "    }\n",
       "\n",
       "    .dataframe tbody tr th {\n",
       "        vertical-align: top;\n",
       "    }\n",
       "\n",
       "    .dataframe thead th {\n",
       "        text-align: right;\n",
       "    }\n",
       "</style>\n",
       "<table border=\"1\" class=\"dataframe\">\n",
       "  <thead>\n",
       "    <tr style=\"text-align: right;\">\n",
       "      <th></th>\n",
       "      <th>ID pedido</th>\n",
       "      <th>Det</th>\n",
       "      <th>etie_nomtienda_0</th>\n",
       "      <th>eped_idtipoped_1</th>\n",
       "      <th>Fecha de entrega</th>\n",
       "      <th>Fin de captura</th>\n",
       "      <th>Venta Neta</th>\n",
       "      <th>Sum_Cant piezas</th>\n",
       "    </tr>\n",
       "  </thead>\n",
       "  <tbody>\n",
       "    <tr>\n",
       "      <th>0</th>\n",
       "      <td>28076671</td>\n",
       "      <td>1003</td>\n",
       "      <td>PLAYA DEL CARMEN</td>\n",
       "      <td>11</td>\n",
       "      <td>28/10/2019 12:00</td>\n",
       "      <td>27/10/2019 11:05</td>\n",
       "      <td>832.51</td>\n",
       "      <td>594</td>\n",
       "    </tr>\n",
       "    <tr>\n",
       "      <th>1</th>\n",
       "      <td>27504186</td>\n",
       "      <td>1003</td>\n",
       "      <td>PLAYA DEL CARMEN</td>\n",
       "      <td>11</td>\n",
       "      <td>10/09/2019 13:00</td>\n",
       "      <td>6/09/2019 16:57</td>\n",
       "      <td>655.24</td>\n",
       "      <td>503</td>\n",
       "    </tr>\n",
       "    <tr>\n",
       "      <th>2</th>\n",
       "      <td>27612964</td>\n",
       "      <td>1003</td>\n",
       "      <td>PLAYA DEL CARMEN</td>\n",
       "      <td>103</td>\n",
       "      <td>19/09/2019 14:00</td>\n",
       "      <td>19/09/2019 10:53</td>\n",
       "      <td>7507.84</td>\n",
       "      <td>190</td>\n",
       "    </tr>\n",
       "    <tr>\n",
       "      <th>3</th>\n",
       "      <td>27462663</td>\n",
       "      <td>1003</td>\n",
       "      <td>PLAYA DEL CARMEN</td>\n",
       "      <td>103</td>\n",
       "      <td>6/09/2019 13:00</td>\n",
       "      <td>4/09/2019 20:09</td>\n",
       "      <td>7099.74</td>\n",
       "      <td>188</td>\n",
       "    </tr>\n",
       "    <tr>\n",
       "      <th>4</th>\n",
       "      <td>28232574</td>\n",
       "      <td>1003</td>\n",
       "      <td>PLAYA DEL CARMEN</td>\n",
       "      <td>11</td>\n",
       "      <td>5/11/2019 9:00</td>\n",
       "      <td>4/11/2019 17:13</td>\n",
       "      <td>5272.92</td>\n",
       "      <td>176</td>\n",
       "    </tr>\n",
       "  </tbody>\n",
       "</table>\n",
       "</div>"
      ],
      "text/plain": [
       "   ID pedido   Det  etie_nomtienda_0  eped_idtipoped_1  Fecha de entrega  \\\n",
       "0   28076671  1003  PLAYA DEL CARMEN                11  28/10/2019 12:00   \n",
       "1   27504186  1003  PLAYA DEL CARMEN                11  10/09/2019 13:00   \n",
       "2   27612964  1003  PLAYA DEL CARMEN               103  19/09/2019 14:00   \n",
       "3   27462663  1003  PLAYA DEL CARMEN               103   6/09/2019 13:00   \n",
       "4   28232574  1003  PLAYA DEL CARMEN                11    5/11/2019 9:00   \n",
       "\n",
       "     Fin de captura  Venta Neta  Sum_Cant piezas  \n",
       "0  27/10/2019 11:05      832.51              594  \n",
       "1   6/09/2019 16:57      655.24              503  \n",
       "2  19/09/2019 10:53     7507.84              190  \n",
       "3   4/09/2019 20:09     7099.74              188  \n",
       "4   4/11/2019 17:13     5272.92              176  "
      ]
     },
     "execution_count": 1,
     "metadata": {},
     "output_type": "execute_result"
    }
   ],
   "source": [
    "import pandas as pd\n",
    "import numpy as np\n",
    "df = pd.read_csv('Pedidos con piezas.csv')\n",
    "pd.set_option('display.max_columns', None)\n",
    "df.head(5)"
   ]
  },
  {
   "cell_type": "code",
   "execution_count": 2,
   "metadata": {},
   "outputs": [
    {
     "data": {
      "text/html": [
       "<div>\n",
       "<style scoped>\n",
       "    .dataframe tbody tr th:only-of-type {\n",
       "        vertical-align: middle;\n",
       "    }\n",
       "\n",
       "    .dataframe tbody tr th {\n",
       "        vertical-align: top;\n",
       "    }\n",
       "\n",
       "    .dataframe thead th {\n",
       "        text-align: right;\n",
       "    }\n",
       "</style>\n",
       "<table border=\"1\" class=\"dataframe\">\n",
       "  <thead>\n",
       "    <tr style=\"text-align: right;\">\n",
       "      <th></th>\n",
       "      <th></th>\n",
       "      <th>Sum_Cant piezas</th>\n",
       "      <th>Lead_Time</th>\n",
       "    </tr>\n",
       "    <tr>\n",
       "      <th>Fin de captura</th>\n",
       "      <th>etie_nomtienda_0</th>\n",
       "      <th></th>\n",
       "      <th></th>\n",
       "    </tr>\n",
       "  </thead>\n",
       "  <tbody>\n",
       "    <tr>\n",
       "      <th>2019-08-30</th>\n",
       "      <th>5 DE FEBRERO NORTE</th>\n",
       "      <td>19.500000</td>\n",
       "      <td>2.422222</td>\n",
       "    </tr>\n",
       "    <tr>\n",
       "      <th>2019-08-31</th>\n",
       "      <th>5 DE FEBRERO NORTE</th>\n",
       "      <td>33.600000</td>\n",
       "      <td>0.609028</td>\n",
       "    </tr>\n",
       "    <tr>\n",
       "      <th>2019-09-01</th>\n",
       "      <th>5 DE FEBRERO NORTE</th>\n",
       "      <td>30.709677</td>\n",
       "      <td>0.341622</td>\n",
       "    </tr>\n",
       "    <tr>\n",
       "      <th>2019-09-02</th>\n",
       "      <th>5 DE FEBRERO NORTE</th>\n",
       "      <td>26.294118</td>\n",
       "      <td>0.331107</td>\n",
       "    </tr>\n",
       "    <tr>\n",
       "      <th>2019-09-03</th>\n",
       "      <th>5 DE FEBRERO NORTE</th>\n",
       "      <td>24.972222</td>\n",
       "      <td>0.274788</td>\n",
       "    </tr>\n",
       "  </tbody>\n",
       "</table>\n",
       "</div>"
      ],
      "text/plain": [
       "                                   Sum_Cant piezas  Lead_Time\n",
       "Fin de captura etie_nomtienda_0                              \n",
       "2019-08-30     5 DE FEBRERO NORTE        19.500000   2.422222\n",
       "2019-08-31     5 DE FEBRERO NORTE        33.600000   0.609028\n",
       "2019-09-01     5 DE FEBRERO NORTE        30.709677   0.341622\n",
       "2019-09-02     5 DE FEBRERO NORTE        26.294118   0.331107\n",
       "2019-09-03     5 DE FEBRERO NORTE        24.972222   0.274788"
      ]
     },
     "execution_count": 2,
     "metadata": {},
     "output_type": "execute_result"
    }
   ],
   "source": [
    "from datetime import timedelta, date, datetime\n",
    "df0=df\n",
    "df0['Fin de captura'] = pd.to_datetime(df0['Fin de captura'], format= '%d/%m/%Y %H:%M')\n",
    "df0['Fecha de entrega'] = pd.to_datetime(df0['Fecha de entrega'], format= '%d/%m/%Y %H:%M')\n",
    "df0[\"Lead_Time\"]=df0[\"Fecha de entrega\"]-df0[\"Fin de captura\"]\n",
    "df0['Lead_Time'] = df0['Lead_Time'].dt.total_seconds() / (24 * 60 * 60)\n",
    "df0 = df0.drop(columns=[\"Det\", \"ID pedido\", \"Venta Neta\",\"Fecha de entrega\",\"eped_idtipoped_1\"])\n",
    "df0=df0.set_index('Fin de captura').groupby([pd.Grouper(freq='1D'), 'etie_nomtienda_0']).mean()\n",
    "df0=df0.sort_values(['etie_nomtienda_0'], ascending=[True])\n",
    "df0=df0.sort_values(['etie_nomtienda_0', 'Fin de captura'], ascending=[True, True])\n",
    "df0.head(5)\n"
   ]
  },
  {
   "cell_type": "code",
   "execution_count": 3,
   "metadata": {
    "scrolled": false
   },
   "outputs": [
    {
     "data": {
      "text/html": [
       "<div>\n",
       "<style scoped>\n",
       "    .dataframe tbody tr th:only-of-type {\n",
       "        vertical-align: middle;\n",
       "    }\n",
       "\n",
       "    .dataframe tbody tr th {\n",
       "        vertical-align: top;\n",
       "    }\n",
       "\n",
       "    .dataframe thead th {\n",
       "        text-align: right;\n",
       "    }\n",
       "</style>\n",
       "<table border=\"1\" class=\"dataframe\">\n",
       "  <thead>\n",
       "    <tr style=\"text-align: right;\">\n",
       "      <th></th>\n",
       "      <th>Lead_Time</th>\n",
       "    </tr>\n",
       "    <tr>\n",
       "      <th>etie_nomtienda_0</th>\n",
       "      <th></th>\n",
       "    </tr>\n",
       "  </thead>\n",
       "  <tbody>\n",
       "    <tr>\n",
       "      <th>5 DE FEBRERO NORTE</th>\n",
       "      <td>0.463304</td>\n",
       "    </tr>\n",
       "    <tr>\n",
       "      <th>ACAPULCO</th>\n",
       "      <td>0.400148</td>\n",
       "    </tr>\n",
       "    <tr>\n",
       "      <th>ACAPULCO DIAMANTE</th>\n",
       "      <td>0.633768</td>\n",
       "    </tr>\n",
       "    <tr>\n",
       "      <th>AEROPUERTO</th>\n",
       "      <td>0.594657</td>\n",
       "    </tr>\n",
       "    <tr>\n",
       "      <th>AGUASCALIENTES</th>\n",
       "      <td>0.767156</td>\n",
       "    </tr>\n",
       "  </tbody>\n",
       "</table>\n",
       "</div>"
      ],
      "text/plain": [
       "                    Lead_Time\n",
       "etie_nomtienda_0             \n",
       "5 DE FEBRERO NORTE   0.463304\n",
       "ACAPULCO             0.400148\n",
       "ACAPULCO DIAMANTE    0.633768\n",
       "AEROPUERTO           0.594657\n",
       "AGUASCALIENTES       0.767156"
      ]
     },
     "execution_count": 3,
     "metadata": {},
     "output_type": "execute_result"
    }
   ],
   "source": [
    "from scipy.stats import norm\n",
    "df3 = df0 [['Lead_Time']]\n",
    "df3 = df3.reset_index()\n",
    "df8= df3.groupby(\"etie_nomtienda_0\").apply(np.mean)+norm.ppf(0.95)*df3.groupby(\"etie_nomtienda_0\").apply(np.std).div(((df3.groupby(['etie_nomtienda_0'])['Fin de captura'].max() - df3.groupby(['etie_nomtienda_0'])['Fin de captura'].min()).dt.total_seconds() / (24 * 60 * 60))**(1/2),axis=0)\n",
    "df8.head(5)"
   ]
  },
  {
   "cell_type": "code",
   "execution_count": 4,
   "metadata": {},
   "outputs": [],
   "source": [
    "export_csv = df8.to_csv (r'UBoundByBranch.csv', index = True, header=True)"
   ]
  },
  {
   "cell_type": "code",
   "execution_count": 5,
   "metadata": {
    "scrolled": false
   },
   "outputs": [
    {
     "name": "stdout",
     "output_type": "stream",
     "text": [
      "  Fin de captura    etie_nomtienda_0  eped_idtipoped_1  Sum_Cant piezas  \\\n",
      "0     2019-08-30  5 DE FEBRERO NORTE               114               39   \n",
      "1     2019-08-31  5 DE FEBRERO NORTE               662              336   \n",
      "2     2019-09-01  5 DE FEBRERO NORTE              2089              952   \n",
      "3     2019-09-02  5 DE FEBRERO NORTE              2490              894   \n",
      "4     2019-09-03  5 DE FEBRERO NORTE              1868              899   \n",
      "\n",
      "   Lead_Time_x  Lead_Time_y  \n",
      "0     4.844444     0.463304  \n",
      "1     6.090278     0.463304  \n",
      "2    10.590278     0.463304  \n",
      "3    11.257639     0.463304  \n",
      "4     9.892361     0.463304  \n"
     ]
    }
   ],
   "source": [
    "from dateutil.relativedelta import relativedelta\n",
    "df1=df\n",
    "df1['Fin de captura'] = pd.to_datetime(df1['Fin de captura'], format= '%d/%m/%Y %H:%M')\n",
    "df1['Fecha de entrega'] = pd.to_datetime(df1['Fecha de entrega'], format= '%d/%m/%Y %H:%M')\n",
    "df1[\"Lead_Time\"]=df1[\"Fecha de entrega\"]-df1[\"Fin de captura\"]\n",
    "df1['Lead_Time'] = df1['Lead_Time'].dt.total_seconds() / (24 * 60 * 60)\n",
    "df1 = df1.drop(columns=[\"Det\", \"ID pedido\", \"Venta Neta\",\"Fecha de entrega\"])\n",
    "df1=df1.set_index('Fin de captura').groupby([pd.Grouper(freq='1D'), 'etie_nomtienda_0']).sum()\n",
    "df1=df1.sort_values(['etie_nomtienda_0'], ascending=[True])\n",
    "df1=df1.sort_values(['etie_nomtienda_0', 'Fin de captura'], ascending=[True, True])\n",
    "df1 = df1.reset_index()\n",
    "df1 = pd.merge(left=df1,right=df8, how='right', left_on='etie_nomtienda_0', right_on='etie_nomtienda_0')\n",
    "print(df1.head(5))"
   ]
  },
  {
   "cell_type": "code",
   "execution_count": 6,
   "metadata": {
    "scrolled": false
   },
   "outputs": [
    {
     "name": "stderr",
     "output_type": "stream",
     "text": [
      "C:\\Users\\pipe_\\Anaconda3\\lib\\site-packages\\sklearn\\utils\\validation.py:595: DataConversionWarning: Data with input dtype int64 was converted to float64 by StandardScaler.\n",
      "  warnings.warn(msg, DataConversionWarning)\n",
      "C:\\Users\\pipe_\\Anaconda3\\lib\\site-packages\\sklearn\\utils\\validation.py:595: DataConversionWarning: Data with input dtype int64 was converted to float64 by StandardScaler.\n",
      "  warnings.warn(msg, DataConversionWarning)\n",
      "C:\\Users\\pipe_\\Anaconda3\\lib\\site-packages\\sklearn\\utils\\validation.py:595: DataConversionWarning: Data with input dtype int64 was converted to float64 by StandardScaler.\n",
      "  warnings.warn(msg, DataConversionWarning)\n"
     ]
    },
    {
     "name": "stdout",
     "output_type": "stream",
     "text": [
      "Weight coefficients:  [[0.7504785]]\n",
      "y-axis intercept:  [9.80081494e-17]\n",
      "                            OLS Regression Results                            \n",
      "==============================================================================\n",
      "Dep. Variable:                      y   R-squared:                       0.563\n",
      "Model:                            OLS   Adj. R-squared:                  0.563\n",
      "Method:                 Least Squares   F-statistic:                     9255.\n",
      "Date:                Tue, 12 Nov 2019   Prob (F-statistic):               0.00\n",
      "Time:                        10:47:51   Log-Likelihood:                -7213.3\n",
      "No. Observations:                7179   AIC:                         1.443e+04\n",
      "Df Residuals:                    7177   BIC:                         1.444e+04\n",
      "Df Model:                           1                                         \n",
      "Covariance Type:            nonrobust                                         \n",
      "==============================================================================\n",
      "                 coef    std err          t      P>|t|      [0.025      0.975]\n",
      "------------------------------------------------------------------------------\n",
      "const       4.857e-17      0.008   6.23e-15      1.000      -0.015       0.015\n",
      "x1             0.7505      0.008     96.201      0.000       0.735       0.766\n",
      "==============================================================================\n",
      "Omnibus:                     8860.696   Durbin-Watson:                   1.972\n",
      "Prob(Omnibus):                  0.000   Jarque-Bera (JB):          2673176.340\n",
      "Skew:                           6.387   Prob(JB):                         0.00\n",
      "Kurtosis:                      96.667   Cond. No.                         1.00\n",
      "==============================================================================\n",
      "\n",
      "Warnings:\n",
      "[1] Standard Errors assume that the covariance matrix of the errors is correctly specified.\n",
      "Normality Test of Error Statistics=0.594, p=0.000\n",
      "Normality Test of Error Statistics=0.764, p=0.000\n",
      "Mean Squared Error (MSE): 0.4575633890418245\n",
      "R-squared (R2 ): 0.5380385530188498\n",
      "(10715, 1)\n",
      "(10715, 1)\n"
     ]
    },
    {
     "name": "stderr",
     "output_type": "stream",
     "text": [
      "C:\\Users\\pipe_\\Anaconda3\\lib\\site-packages\\scipy\\stats\\morestats.py:1653: UserWarning: p-value may not be accurate for N > 5000.\n",
      "  warnings.warn(\"p-value may not be accurate for N > 5000.\")\n",
      "C:\\Users\\pipe_\\Anaconda3\\lib\\site-packages\\scipy\\stats\\morestats.py:1653: UserWarning: p-value may not be accurate for N > 5000.\n",
      "  warnings.warn(\"p-value may not be accurate for N > 5000.\")\n"
     ]
    },
    {
     "data": {
      "text/plain": [
       "<Figure size 640x480 with 1 Axes>"
      ]
     },
     "metadata": {},
     "output_type": "display_data"
    },
    {
     "data": {
      "text/plain": [
       "<matplotlib.collections.PathCollection at 0x197fcdc00f0>"
      ]
     },
     "execution_count": 6,
     "metadata": {},
     "output_type": "execute_result"
    }
   ],
   "source": [
    "import matplotlib.pyplot as plt\n",
    "from sklearn.model_selection import train_test_split\n",
    "from sklearn.preprocessing import LabelEncoder, MinMaxScaler, StandardScaler\n",
    "from tensorflow.keras.utils import to_categorical\n",
    "from sklearn.preprocessing import StandardScaler\n",
    "from scipy.stats import shapiro\n",
    "import statsmodels.api as sm\n",
    "\n",
    "X = df1['Sum_Cant piezas'].values.reshape(-1, 1)\n",
    "y = df1['Lead_Time_x'].values.reshape(-1, 1)\n",
    "\n",
    "X_train, X_test, y_train, y_test = train_test_split(X, y, random_state=4,test_size=.33)\n",
    "X_scaler = StandardScaler().fit(X_train)\n",
    "y_scaler = StandardScaler().fit(y_train)\n",
    "X_train_scaled = X_scaler.transform(X_train)\n",
    "X_test_scaled = X_scaler.transform(X_test)\n",
    "y_train_scaled= y_scaler.transform(y_train)\n",
    "y_test_scaled= y_scaler.transform(y_test)\n",
    "\n",
    "\n",
    "from sklearn.linear_model import LinearRegression\n",
    "from sklearn.metrics import mean_squared_error, r2_score\n",
    "model = LinearRegression()\n",
    "model.fit(X_train_scaled, y_train_scaled)\n",
    "predictions = model.predict(X_test_scaled)\n",
    "mse = mean_squared_error(y_test_scaled, predictions)\n",
    "r2 = r2_score(y_test_scaled, predictions)\n",
    "#r2 = r2_score(X_train_scaled, y_train_scaled)\n",
    "X2_train_scaled = sm.add_constant(X_train_scaled)\n",
    "est = sm.OLS(y_train_scaled, X2_train_scaled)\n",
    "est2 = est.fit()\n",
    "residuals = est2.fittedvalues\n",
    "Error_Frame= pd.DataFrame(residuals)-pd.DataFrame(y_train_scaled)\n",
    "\n",
    "statE, pE = shapiro(Error_Frame) \n",
    "stat, p = shapiro(X_train_scaled) \n",
    "\n",
    "print('Weight coefficients: ', model.coef_)\n",
    "print('y-axis intercept: ', model.intercept_) \n",
    "print(est2.summary())\n",
    "print('Normality Test of Error Statistics=%.3f, p=%.3f' % (statE, pE) )\n",
    "print('Normality Test of Error Statistics=%.3f, p=%.3f' % (stat, p) )\n",
    "print(f\"Mean Squared Error (MSE): {mse}\")\n",
    "print(f\"R-squared (R2 ): {r2}\")\n",
    "print(X.shape)\n",
    "print(y.shape)\n",
    "plt.scatter(model.predict(X_train_scaled), model.predict(X_train_scaled) - y_train_scaled, c=\"blue\", label=\"Training Data\")\n",
    "plt.scatter(model.predict(X_test_scaled), model.predict(X_test_scaled) - y_test_scaled, c=\"orange\", label=\"Testing Data\")\n",
    "plt.legend()\n",
    "plt.hlines(y=0, xmin=y_test_scaled.min(), xmax=y_test_scaled.max())\n",
    "plt.title(\"Residual Plot\")\n",
    "plt.show()\n",
    "plt.scatter(X_train_scaled,y_train_scaled)"
   ]
  },
  {
   "cell_type": "code",
   "execution_count": 44,
   "metadata": {},
   "outputs": [
    {
     "name": "stderr",
     "output_type": "stream",
     "text": [
      "C:\\Users\\pipe_\\Anaconda3\\lib\\site-packages\\scipy\\stats\\morestats.py:1653: UserWarning: p-value may not be accurate for N > 5000.\n",
      "  warnings.warn(\"p-value may not be accurate for N > 5000.\")\n",
      "C:\\Users\\pipe_\\Anaconda3\\lib\\site-packages\\scipy\\stats\\morestats.py:1653: UserWarning: p-value may not be accurate for N > 5000.\n",
      "  warnings.warn(\"p-value may not be accurate for N > 5000.\")\n"
     ]
    },
    {
     "name": "stdout",
     "output_type": "stream",
     "text": [
      "Weight coefficients:  [[0.01290831]]\n",
      "y-axis intercept:  [2.71277724]\n",
      "                            OLS Regression Results                            \n",
      "==============================================================================\n",
      "Dep. Variable:                      y   R-squared:                       0.563\n",
      "Model:                            OLS   Adj. R-squared:                  0.563\n",
      "Method:                 Least Squares   F-statistic:                     9255.\n",
      "Date:                Tue, 12 Nov 2019   Prob (F-statistic):               0.00\n",
      "Time:                        10:56:12   Log-Likelihood:                -27690.\n",
      "No. Observations:                7179   AIC:                         5.538e+04\n",
      "Df Residuals:                    7177   BIC:                         5.540e+04\n",
      "Df Model:                           1                                         \n",
      "Covariance Type:            nonrobust                                         \n",
      "==============================================================================\n",
      "                 coef    std err          t      P>|t|      [0.025      0.975]\n",
      "------------------------------------------------------------------------------\n",
      "const          2.7128      0.195     13.941      0.000       2.331       3.094\n",
      "x1             0.0129      0.000     96.201      0.000       0.013       0.013\n",
      "==============================================================================\n",
      "Omnibus:                     8860.696   Durbin-Watson:                   1.972\n",
      "Prob(Omnibus):                  0.000   Jarque-Bera (JB):          2673176.340\n",
      "Skew:                           6.387   Prob(JB):                         0.00\n",
      "Kurtosis:                      96.667   Cond. No.                     2.09e+03\n",
      "==============================================================================\n",
      "\n",
      "Warnings:\n",
      "[1] Standard Errors assume that the covariance matrix of the errors is correctly specified.\n",
      "[2] The condition number is large, 2.09e+03. This might indicate that there are\n",
      "strong multicollinearity or other numerical problems.\n",
      "Normality Test of Error Statistics=0.594, p=0.000\n",
      "Normality Test of Error Statistics=0.764, p=0.000\n",
      "Mean Squared Error (MSE): 137.37640129311347\n",
      "R-squared (R2 ): 0.53803855301885\n",
      "(10715, 1)\n",
      "(10715, 1)\n"
     ]
    },
    {
     "data": {
      "image/png": "[encoded data removed]",
      "text/plain": [
       "<Figure size 432x288 with 1 Axes>"
      ]
     },
     "metadata": {
      "needs_background": "light"
     },
     "output_type": "display_data"
    },
    {
     "data": {
      "text/plain": [
       "<matplotlib.collections.PathCollection at 0x19787afe978>"
      ]
     },
     "execution_count": 44,
     "metadata": {},
     "output_type": "execute_result"
    },
    {
     "data": {
      "image/png": "[encoded data removed]",
      "text/plain": [
       "<Figure size 432x288 with 1 Axes>"
      ]
     },
     "metadata": {
      "needs_background": "light"
     },
     "output_type": "display_data"
    }
   ],
   "source": [
    "import matplotlib.pyplot as plt\n",
    "from sklearn.model_selection import train_test_split\n",
    "from sklearn.preprocessing import LabelEncoder, MinMaxScaler, StandardScaler\n",
    "from tensorflow.keras.utils import to_categorical\n",
    "from sklearn.preprocessing import StandardScaler\n",
    "from scipy.stats import shapiro\n",
    "import statsmodels.api as sm\n",
    "\n",
    "X = df1['Sum_Cant piezas'].values.reshape(-1, 1)\n",
    "y = df1['Lead_Time_x'].values.reshape(-1, 1)\n",
    "\n",
    "X_train, X_test, y_train, y_test = train_test_split(X, y, random_state=4,test_size=.33)\n",
    "\n",
    "from sklearn.linear_model import LinearRegression\n",
    "from sklearn.metrics import mean_squared_error, r2_score\n",
    "model = LinearRegression()\n",
    "model.fit(X_train, y_train)\n",
    "predictions = model.predict(X_test)\n",
    "mse = mean_squared_error(y_test, predictions)\n",
    "r2 = r2_score(y_test, predictions)\n",
    "#r2 = r2_score(X_train_scaled, y_train_scaled)\n",
    "X2_train = sm.add_constant(X_train)\n",
    "est = sm.OLS(y_train, X2_train)\n",
    "est2 = est.fit()\n",
    "residuals = est2.fittedvalues\n",
    "Error_Frame= pd.DataFrame(residuals)-pd.DataFrame(y_train)\n",
    "\n",
    "statE, pE = shapiro(Error_Frame) \n",
    "stat, p = shapiro(X_train) \n",
    "\n",
    "print('Weight coefficients: ', model.coef_)\n",
    "print('y-axis intercept: ', model.intercept_) \n",
    "print(est2.summary())\n",
    "print('Normality Test of Error Statistics=%.3f, p=%.3f' % (statE, pE) )\n",
    "print('Normality Test of Error Statistics=%.3f, p=%.3f' % (stat, p) )\n",
    "print(f\"Mean Squared Error (MSE): {mse}\")\n",
    "print(f\"R-squared (R2 ): {r2}\")\n",
    "print(X.shape)\n",
    "print(y.shape)\n",
    "plt.scatter(model.predict(X_train), model.predict(X_train) - y_train, c=\"blue\", label=\"Training Data\")\n",
    "plt.scatter(model.predict(X_test), model.predict(X_test) - y_test, c=\"orange\", label=\"Testing Data\")\n",
    "plt.legend()\n",
    "plt.hlines(y=0, xmin=y_test.min(), xmax=y_test.max())\n",
    "plt.title(\"Residual Plot\")\n",
    "plt.show()\n",
    "plt.scatter(X_train,y_train, c=\"blue\", label=\"Training Data\")\n",
    "plt.scatter(X_test,y_test, c=\"orange\", label=\"Testing Data\")"
   ]
  },
  {
   "cell_type": "code",
   "execution_count": 45,
   "metadata": {
    "scrolled": false
   },
   "outputs": [
    {
     "name": "stdout",
     "output_type": "stream",
     "text": [
      "Weight coefficients:  [[0.01280094]]\n",
      "y-axis intercept:  [2.73008714]\n",
      "                            OLS Regression Results                            \n",
      "==============================================================================\n",
      "Dep. Variable:                      y   R-squared:                       0.555\n",
      "Model:                            OLS   Adj. R-squared:                  0.555\n",
      "Method:                 Least Squares   F-statistic:                 1.337e+04\n",
      "Date:                Tue, 12 Nov 2019   Prob (F-statistic):               0.00\n",
      "Time:                        10:56:16   Log-Likelihood:                -41411.\n",
      "No. Observations:               10715   AIC:                         8.283e+04\n",
      "Df Residuals:                   10713   BIC:                         8.284e+04\n",
      "Df Model:                           1                                         \n",
      "Covariance Type:            nonrobust                                         \n",
      "==============================================================================\n",
      "                 coef    std err          t      P>|t|      [0.025      0.975]\n",
      "------------------------------------------------------------------------------\n",
      "const          2.7301      0.160     17.023      0.000       2.416       3.044\n",
      "x1             0.0128      0.000    115.608      0.000       0.013       0.013\n",
      "==============================================================================\n",
      "Omnibus:                    13244.491   Durbin-Watson:                   0.793\n",
      "Prob(Omnibus):                  0.000   Jarque-Bera (JB):          3565318.720\n",
      "Skew:                           6.482   Prob(JB):                         0.00\n",
      "Kurtosis:                      91.418   Cond. No.                     2.08e+03\n",
      "==============================================================================\n",
      "\n",
      "Warnings:\n",
      "[1] Standard Errors assume that the covariance matrix of the errors is correctly specified.\n",
      "[2] The condition number is large, 2.08e+03. This might indicate that there are\n",
      "strong multicollinearity or other numerical problems.\n",
      "Normality Test of Error Statistics=0.578, p=0.000\n",
      "Normality Test of Error Statistics=0.760, p=0.000\n",
      "Mean Squared Error (MSE): 133.1754956799714\n",
      "R-squared (R2 ): 0.5550751152438498\n"
     ]
    },
    {
     "name": "stderr",
     "output_type": "stream",
     "text": [
      "C:\\Users\\pipe_\\Anaconda3\\lib\\site-packages\\scipy\\stats\\morestats.py:1653: UserWarning: p-value may not be accurate for N > 5000.\n",
      "  warnings.warn(\"p-value may not be accurate for N > 5000.\")\n",
      "C:\\Users\\pipe_\\Anaconda3\\lib\\site-packages\\scipy\\stats\\morestats.py:1653: UserWarning: p-value may not be accurate for N > 5000.\n",
      "  warnings.warn(\"p-value may not be accurate for N > 5000.\")\n"
     ]
    },
    {
     "data": {
      "image/png": "[encoded data removed]",
      "text/plain": [
       "<Figure size 432x288 with 1 Axes>"
      ]
     },
     "metadata": {
      "needs_background": "light"
     },
     "output_type": "display_data"
    },
    {
     "data": {
      "text/plain": [
       "<matplotlib.collections.PathCollection at 0x197882012b0>"
      ]
     },
     "execution_count": 45,
     "metadata": {},
     "output_type": "execute_result"
    },
    {
     "data": {
      "image/png": "[encoded data removed]",
      "text/plain": [
       "<Figure size 432x288 with 1 Axes>"
      ]
     },
     "metadata": {
      "needs_background": "light"
     },
     "output_type": "display_data"
    }
   ],
   "source": [
    "from sklearn.linear_model import LinearRegression\n",
    "from sklearn.metrics import mean_squared_error, r2_score\n",
    "model = LinearRegression()\n",
    "model.fit(X, y)\n",
    "predictions = model.predict(X)\n",
    "print('Weight coefficients: ', model.coef_)\n",
    "print('y-axis intercept: ', model.intercept_) \n",
    "mse = mean_squared_error(y, predictions)\n",
    "r2 = r2_score(y, predictions)\n",
    "X2 = sm.add_constant(X)\n",
    "est = sm.OLS(y, X2)\n",
    "est2 = est.fit()\n",
    "residuals = est2.fittedvalues\n",
    "Error_Frame= pd.DataFrame(residuals)-pd.DataFrame(y)\n",
    "statE, pE = shapiro(Error_Frame) \n",
    "stat, p = shapiro(X) \n",
    "print(est2.summary())\n",
    "print('Normality Test of Error Statistics=%.3f, p=%.3f' % (statE, pE) )\n",
    "print('Normality Test of Error Statistics=%.3f, p=%.3f' % (stat, p) )\n",
    "print(f\"Mean Squared Error (MSE): {mse}\")\n",
    "print(f\"R-squared (R2 ): {r2}\")\n",
    "plt.scatter(model.predict(X), model.predict(X) - y, c=\"blue\", label=\"Training Data\")\n",
    "plt.legend()\n",
    "plt.hlines(y=0, xmin=y.min(), xmax=y.max())\n",
    "plt.title(\"Residual Plot\")\n",
    "plt.show()\n",
    "plt.scatter(X,y)"
   ]
  },
  {
   "cell_type": "code",
   "execution_count": 46,
   "metadata": {},
   "outputs": [
    {
     "name": "stdout",
     "output_type": "stream",
     "text": [
      "Weight coefficients:  [0.01280093]\n",
      "y-axis intercept:  [2.73009741]\n",
      "                            OLS Regression Results                            \n",
      "==============================================================================\n",
      "Dep. Variable:                      y   R-squared:                       0.555\n",
      "Model:                            OLS   Adj. R-squared:                  0.555\n",
      "Method:                 Least Squares   F-statistic:                 1.337e+04\n",
      "Date:                Tue, 12 Nov 2019   Prob (F-statistic):               0.00\n",
      "Time:                        11:00:41   Log-Likelihood:                -41411.\n",
      "No. Observations:               10715   AIC:                         8.283e+04\n",
      "Df Residuals:                   10713   BIC:                         8.284e+04\n",
      "Df Model:                           1                                         \n",
      "Covariance Type:            nonrobust                                         \n",
      "==============================================================================\n",
      "                 coef    std err          t      P>|t|      [0.025      0.975]\n",
      "------------------------------------------------------------------------------\n",
      "const          2.7301      0.160     17.023      0.000       2.416       3.044\n",
      "x1             0.0128      0.000    115.608      0.000       0.013       0.013\n",
      "==============================================================================\n",
      "Omnibus:                    13244.491   Durbin-Watson:                   0.793\n",
      "Prob(Omnibus):                  0.000   Jarque-Bera (JB):          3565318.720\n",
      "Skew:                           6.482   Prob(JB):                         0.00\n",
      "Kurtosis:                      91.418   Cond. No.                     2.08e+03\n",
      "==============================================================================\n",
      "\n",
      "Warnings:\n",
      "[1] Standard Errors assume that the covariance matrix of the errors is correctly specified.\n",
      "[2] The condition number is large, 2.08e+03. This might indicate that there are\n",
      "strong multicollinearity or other numerical problems.\n",
      "Normality Test of Error Statistics=0.578, p=0.000\n",
      "Normality Test of Error Statistics=0.760, p=0.000\n",
      "Mean Squared Error (MSE): 133.17549568007001\n",
      "R-squared (R2 ): 0.5550751152435203\n"
     ]
    },
    {
     "name": "stderr",
     "output_type": "stream",
     "text": [
      "C:\\Users\\pipe_\\Anaconda3\\lib\\site-packages\\scipy\\stats\\morestats.py:1653: UserWarning: p-value may not be accurate for N > 5000.\n",
      "  warnings.warn(\"p-value may not be accurate for N > 5000.\")\n",
      "C:\\Users\\pipe_\\Anaconda3\\lib\\site-packages\\scipy\\stats\\morestats.py:1653: UserWarning: p-value may not be accurate for N > 5000.\n",
      "  warnings.warn(\"p-value may not be accurate for N > 5000.\")\n"
     ]
    },
    {
     "data": {
      "image/png": "[encoded data removed]",
      "text/plain": [
       "<Figure size 432x288 with 1 Axes>"
      ]
     },
     "metadata": {
      "needs_background": "light"
     },
     "output_type": "display_data"
    },
    {
     "data": {
      "text/plain": [
       "<matplotlib.collections.PathCollection at 0x1978983dfd0>"
      ]
     },
     "execution_count": 46,
     "metadata": {},
     "output_type": "execute_result"
    },
    {
     "data": {
      "image/png": "[encoded data removed]",
      "text/plain": [
       "<Figure size 432x288 with 1 Axes>"
      ]
     },
     "metadata": {
      "needs_background": "light"
     },
     "output_type": "display_data"
    }
   ],
   "source": [
    "from sklearn.linear_model import Lasso\n",
    "lasso = Lasso(alpha=.01).fit(X, y)\n",
    "predictions = lasso.predict(X)\n",
    "mse = mean_squared_error(y, predictions)\n",
    "r2 = r2_score(y, predictions)\n",
    "X2 = sm.add_constant(X)\n",
    "est = sm.OLS(y, X2)\n",
    "est2 = est.fit()\n",
    "residuals = est2.fittedvalues\n",
    "Error_Frame= pd.DataFrame(residuals)-pd.DataFrame(y)\n",
    "statE, pE = shapiro(Error_Frame) \n",
    "stat, p = shapiro(X) \n",
    "print('Weight coefficients: ', lasso.coef_)\n",
    "print('y-axis intercept: ', lasso.intercept_) \n",
    "print(est2.summary())\n",
    "print('Normality Test of Error Statistics=%.3f, p=%.3f' % (statE, pE) )\n",
    "print('Normality Test of Error Statistics=%.3f, p=%.3f' % (stat, p) )\n",
    "print(f\"Mean Squared Error (MSE): {mse}\")\n",
    "print(f\"R-squared (R2 ): {r2}\")\n",
    "plt.scatter(model.predict(X), model.predict(X) - y, c=\"blue\", label=\"Training Data\")\n",
    "plt.legend()\n",
    "plt.hlines(y=0, xmin=y.min(), xmax=y.max())\n",
    "plt.title(\"Residual Plot\")\n",
    "plt.show()\n",
    "plt.scatter(X,y)"
   ]
  },
  {
   "cell_type": "code",
   "execution_count": 10,
   "metadata": {},
   "outputs": [
    {
     "name": "stdout",
     "output_type": "stream",
     "text": [
      "Weight coefficients:  [[0.01280094]]\n",
      "y-axis intercept:  [2.73008714]\n",
      "                            OLS Regression Results                            \n",
      "==============================================================================\n",
      "Dep. Variable:                      y   R-squared:                       0.555\n",
      "Model:                            OLS   Adj. R-squared:                  0.555\n",
      "Method:                 Least Squares   F-statistic:                 1.337e+04\n",
      "Date:                Tue, 12 Nov 2019   Prob (F-statistic):               0.00\n",
      "Time:                        10:47:52   Log-Likelihood:                -41411.\n",
      "No. Observations:               10715   AIC:                         8.283e+04\n",
      "Df Residuals:                   10713   BIC:                         8.284e+04\n",
      "Df Model:                           1                                         \n",
      "Covariance Type:            nonrobust                                         \n",
      "==============================================================================\n",
      "                 coef    std err          t      P>|t|      [0.025      0.975]\n",
      "------------------------------------------------------------------------------\n",
      "const          2.7301      0.160     17.023      0.000       2.416       3.044\n",
      "x1             0.0128      0.000    115.608      0.000       0.013       0.013\n",
      "==============================================================================\n",
      "Omnibus:                    13244.491   Durbin-Watson:                   0.793\n",
      "Prob(Omnibus):                  0.000   Jarque-Bera (JB):          3565318.720\n",
      "Skew:                           6.482   Prob(JB):                         0.00\n",
      "Kurtosis:                      91.418   Cond. No.                     2.08e+03\n",
      "==============================================================================\n",
      "\n",
      "Warnings:\n",
      "[1] Standard Errors assume that the covariance matrix of the errors is correctly specified.\n",
      "[2] The condition number is large, 2.08e+03. This might indicate that there are\n",
      "strong multicollinearity or other numerical problems.\n",
      "Normality Test of Error Statistics=0.578, p=0.000\n",
      "Normality Test of Error Statistics=0.760, p=0.000\n",
      "Mean Squared Error (MSE): 133.1754956799714\n",
      "R-squared (R2 ): 0.5550751152438498\n"
     ]
    },
    {
     "name": "stderr",
     "output_type": "stream",
     "text": [
      "C:\\Users\\pipe_\\Anaconda3\\lib\\site-packages\\scipy\\stats\\morestats.py:1653: UserWarning: p-value may not be accurate for N > 5000.\n",
      "  warnings.warn(\"p-value may not be accurate for N > 5000.\")\n",
      "C:\\Users\\pipe_\\Anaconda3\\lib\\site-packages\\scipy\\stats\\morestats.py:1653: UserWarning: p-value may not be accurate for N > 5000.\n",
      "  warnings.warn(\"p-value may not be accurate for N > 5000.\")\n"
     ]
    }
   ],
   "source": [
    "from sklearn.linear_model import Ridge\n",
    "ridge = Ridge(alpha=.01).fit(X, y)\n",
    "predictions = ridge.predict(X)\n",
    "print('Weight coefficients: ', ridge.coef_)\n",
    "print('y-axis intercept: ', ridge.intercept_) \n",
    "mse = mean_squared_error(y, predictions)\n",
    "r2 = r2_score(y, predictions)\n",
    "X2 = sm.add_constant(X)\n",
    "est = sm.OLS(y, X2)\n",
    "est2 = est.fit()\n",
    "residuals = est2.fittedvalues\n",
    "Error_Frame= pd.DataFrame(residuals)-pd.DataFrame(y)\n",
    "statE, pE = shapiro(Error_Frame) \n",
    "stat, p = shapiro(X) \n",
    "print(est2.summary())\n",
    "print('Normality Test of Error Statistics=%.3f, p=%.3f' % (statE, pE) )\n",
    "print('Normality Test of Error Statistics=%.3f, p=%.3f' % (stat, p) )\n",
    "print(f\"Mean Squared Error (MSE): {mse}\")\n",
    "print(f\"R-squared (R2 ): {r2}\")"
   ]
  },
  {
   "cell_type": "code",
   "execution_count": 11,
   "metadata": {},
   "outputs": [
    {
     "name": "stdout",
     "output_type": "stream",
     "text": [
      "Weight coefficients:  [0.01280044]\n",
      "y-axis intercept:  [2.73060713]\n",
      "                            OLS Regression Results                            \n",
      "==============================================================================\n",
      "Dep. Variable:                      y   R-squared:                       0.555\n",
      "Model:                            OLS   Adj. R-squared:                  0.555\n",
      "Method:                 Least Squares   F-statistic:                 1.337e+04\n",
      "Date:                Tue, 12 Nov 2019   Prob (F-statistic):               0.00\n",
      "Time:                        10:47:52   Log-Likelihood:                -41411.\n",
      "No. Observations:               10715   AIC:                         8.283e+04\n",
      "Df Residuals:                   10713   BIC:                         8.284e+04\n",
      "Df Model:                           1                                         \n",
      "Covariance Type:            nonrobust                                         \n",
      "==============================================================================\n",
      "                 coef    std err          t      P>|t|      [0.025      0.975]\n",
      "------------------------------------------------------------------------------\n",
      "const          2.7301      0.160     17.023      0.000       2.416       3.044\n",
      "x1             0.0128      0.000    115.608      0.000       0.013       0.013\n",
      "==============================================================================\n",
      "Omnibus:                    13244.491   Durbin-Watson:                   0.793\n",
      "Prob(Omnibus):                  0.000   Jarque-Bera (JB):          3565318.720\n",
      "Skew:                           6.482   Prob(JB):                         0.00\n",
      "Kurtosis:                      91.418   Cond. No.                     2.08e+03\n",
      "==============================================================================\n",
      "\n",
      "Warnings:\n",
      "[1] Standard Errors assume that the covariance matrix of the errors is correctly specified.\n",
      "[2] The condition number is large, 2.08e+03. This might indicate that there are\n",
      "strong multicollinearity or other numerical problems.\n",
      "Normality Test of Error Statistics=0.578, p=0.000\n",
      "Normality Test of Error Statistics=0.760, p=0.000\n",
      "Mean Squared Error (MSE): 133.17549593289073\n",
      "R-squared (R2 ): 0.5550751143988737\n"
     ]
    },
    {
     "name": "stderr",
     "output_type": "stream",
     "text": [
      "C:\\Users\\pipe_\\Anaconda3\\lib\\site-packages\\scipy\\stats\\morestats.py:1653: UserWarning: p-value may not be accurate for N > 5000.\n",
      "  warnings.warn(\"p-value may not be accurate for N > 5000.\")\n",
      "C:\\Users\\pipe_\\Anaconda3\\lib\\site-packages\\scipy\\stats\\morestats.py:1653: UserWarning: p-value may not be accurate for N > 5000.\n",
      "  warnings.warn(\"p-value may not be accurate for N > 5000.\")\n"
     ]
    }
   ],
   "source": [
    "from sklearn.linear_model import ElasticNet\n",
    "regr = ElasticNet(random_state=0)\n",
    "regr.fit(X, y) \n",
    "predictions = regr.predict(X)\n",
    "print('Weight coefficients: ', regr.coef_)\n",
    "print('y-axis intercept: ', regr.intercept_) \n",
    "mse = mean_squared_error(y, predictions)\n",
    "r2 = r2_score(y, predictions)\n",
    "X2 = sm.add_constant(X)\n",
    "est = sm.OLS(y, X2)\n",
    "est2 = est.fit()\n",
    "residuals = est2.fittedvalues\n",
    "Error_Frame= pd.DataFrame(residuals)-pd.DataFrame(y)\n",
    "statE, pE = shapiro(Error_Frame) \n",
    "stat, p = shapiro(X) \n",
    "print(est2.summary())\n",
    "print('Normality Test of Error Statistics=%.3f, p=%.3f' % (statE, pE) )\n",
    "print('Normality Test of Error Statistics=%.3f, p=%.3f' % (stat, p) )\n",
    "print(f\"Mean Squared Error (MSE): {mse}\")\n",
    "print(f\"R-squared (R2 ): {r2}\")"
   ]
  },
  {
   "cell_type": "code",
   "execution_count": 12,
   "metadata": {
    "scrolled": false
   },
   "outputs": [
    {
     "data": {
      "text/html": [
       "<div>\n",
       "<style scoped>\n",
       "    .dataframe tbody tr th:only-of-type {\n",
       "        vertical-align: middle;\n",
       "    }\n",
       "\n",
       "    .dataframe tbody tr th {\n",
       "        vertical-align: top;\n",
       "    }\n",
       "\n",
       "    .dataframe thead th {\n",
       "        text-align: right;\n",
       "    }\n",
       "</style>\n",
       "<table border=\"1\" class=\"dataframe\">\n",
       "  <thead>\n",
       "    <tr style=\"text-align: right;\">\n",
       "      <th></th>\n",
       "      <th>Fin de captura</th>\n",
       "      <th>etie_nomtienda_0</th>\n",
       "      <th>eped_idtipoped_1</th>\n",
       "      <th>Sum_Cant piezas</th>\n",
       "      <th>Lead_Time_x</th>\n",
       "      <th>Lead_Time_y</th>\n",
       "      <th>Mano de Obra</th>\n",
       "    </tr>\n",
       "  </thead>\n",
       "  <tbody>\n",
       "    <tr>\n",
       "      <th>0</th>\n",
       "      <td>2019-08-30</td>\n",
       "      <td>5 DE FEBRERO NORTE</td>\n",
       "      <td>114</td>\n",
       "      <td>39</td>\n",
       "      <td>4.844444</td>\n",
       "      <td>0.463304</td>\n",
       "      <td>4.844736</td>\n",
       "    </tr>\n",
       "    <tr>\n",
       "      <th>1</th>\n",
       "      <td>2019-08-31</td>\n",
       "      <td>5 DE FEBRERO NORTE</td>\n",
       "      <td>662</td>\n",
       "      <td>336</td>\n",
       "      <td>6.090278</td>\n",
       "      <td>0.463304</td>\n",
       "      <td>10.547332</td>\n",
       "    </tr>\n",
       "    <tr>\n",
       "      <th>2</th>\n",
       "      <td>2019-09-01</td>\n",
       "      <td>5 DE FEBRERO NORTE</td>\n",
       "      <td>2089</td>\n",
       "      <td>952</td>\n",
       "      <td>10.590278</td>\n",
       "      <td>0.463304</td>\n",
       "      <td>22.374939</td>\n",
       "    </tr>\n",
       "    <tr>\n",
       "      <th>3</th>\n",
       "      <td>2019-09-02</td>\n",
       "      <td>5 DE FEBRERO NORTE</td>\n",
       "      <td>2490</td>\n",
       "      <td>894</td>\n",
       "      <td>11.257639</td>\n",
       "      <td>0.463304</td>\n",
       "      <td>21.261301</td>\n",
       "    </tr>\n",
       "    <tr>\n",
       "      <th>4</th>\n",
       "      <td>2019-09-03</td>\n",
       "      <td>5 DE FEBRERO NORTE</td>\n",
       "      <td>1868</td>\n",
       "      <td>899</td>\n",
       "      <td>9.892361</td>\n",
       "      <td>0.463304</td>\n",
       "      <td>21.357304</td>\n",
       "    </tr>\n",
       "  </tbody>\n",
       "</table>\n",
       "</div>"
      ],
      "text/plain": [
       "  Fin de captura    etie_nomtienda_0  eped_idtipoped_1  Sum_Cant piezas  \\\n",
       "0     2019-08-30  5 DE FEBRERO NORTE               114               39   \n",
       "1     2019-08-31  5 DE FEBRERO NORTE               662              336   \n",
       "2     2019-09-01  5 DE FEBRERO NORTE              2089              952   \n",
       "3     2019-09-02  5 DE FEBRERO NORTE              2490              894   \n",
       "4     2019-09-03  5 DE FEBRERO NORTE              1868              899   \n",
       "\n",
       "   Lead_Time_x  Lead_Time_y  Mano de Obra  \n",
       "0     4.844444     0.463304      4.844736  \n",
       "1     6.090278     0.463304     10.547332  \n",
       "2    10.590278     0.463304     22.374939  \n",
       "3    11.257639     0.463304     21.261301  \n",
       "4     9.892361     0.463304     21.357304  "
      ]
     },
     "execution_count": 12,
     "metadata": {},
     "output_type": "execute_result"
    }
   ],
   "source": [
    "df1['Mano de Obra'] =((0.01280044*df1['Sum_Cant piezas']+2.73060713)*24/(8))/2\n",
    "df1.head(5)"
   ]
  },
  {
   "cell_type": "code",
   "execution_count": 13,
   "metadata": {},
   "outputs": [
    {
     "data": {
      "image/png": "[encoded data removed]",
      "text/plain": [
       "<Figure size 432x288 with 1 Axes>"
      ]
     },
     "metadata": {
      "needs_background": "light"
     },
     "output_type": "display_data"
    }
   ],
   "source": [
    "from sklearn.cluster import KMeans\n",
    "Y=df1['Mano de Obra'].values.reshape(-1, 1)\n",
    "Sum_of_squared_distances = []\n",
    "K = range(1,15)\n",
    "for k in K:\n",
    "    km = KMeans(n_clusters=k)\n",
    "    km = km.fit(Y)\n",
    "    Sum_of_squared_distances.append(km.inertia_)\n",
    "plt.plot(K, Sum_of_squared_distances, 'bx-')\n",
    "plt.xlabel('k')\n",
    "plt.ylabel('Sum_of_squared_distances')\n",
    "plt.title('Elbow Method For Optimal k')\n",
    "plt.show()"
   ]
  },
  {
   "cell_type": "code",
   "execution_count": 14,
   "metadata": {
    "scrolled": false
   },
   "outputs": [
    {
     "name": "stdout",
     "output_type": "stream",
     "text": [
      "[[12.25126637]\n",
      " [99.12859199]\n",
      " [51.15479409]\n",
      " [27.26299804]]\n",
      "(10715,)\n",
      "  Fin de captura    etie_nomtienda_0  eped_idtipoped_1  Sum_Cant piezas  \\\n",
      "0     2019-08-30  5 DE FEBRERO NORTE               114               39   \n",
      "1     2019-08-31  5 DE FEBRERO NORTE               662              336   \n",
      "2     2019-09-01  5 DE FEBRERO NORTE              2089              952   \n",
      "3     2019-09-02  5 DE FEBRERO NORTE              2490              894   \n",
      "4     2019-09-03  5 DE FEBRERO NORTE              1868              899   \n",
      "\n",
      "   Lead_Time_x  Lead_Time_y  Mano de Obra   Clasifica2   \n",
      "0     4.844444     0.463304      4.844736             0  \n",
      "1     6.090278     0.463304     10.547332             0  \n",
      "2    10.590278     0.463304     22.374939             3  \n",
      "3    11.257639     0.463304     21.261301             3  \n",
      "4     9.892361     0.463304     21.357304             3  \n"
     ]
    },
    {
     "data": {
      "image/png": "[encoded data removed]",
      "text/plain": [
       "<Figure size 432x288 with 1 Axes>"
      ]
     },
     "metadata": {
      "needs_background": "light"
     },
     "output_type": "display_data"
    }
   ],
   "source": [
    "from sklearn.cluster import KMeans\n",
    "kmeans = KMeans(n_clusters=4)\n",
    "kmeans.fit(Y)\n",
    "predicted_clusters = kmeans.predict(Y)\n",
    "centers = kmeans.cluster_centers_\n",
    "labels = kmeans.labels_\n",
    "import numpy as np\n",
    "labels = np.array(labels)\n",
    "plt.scatter(Y[:, 0], labels, c=predicted_clusters, s=50, cmap='viridis')\n",
    "print(centers)\n",
    "print(labels.shape)\n",
    "from sklearn.metrics import classification_report\n",
    "import sys\n",
    "np.set_printoptions(threshold=sys.maxsize)\n",
    "df1[' Clasifica2 ']=labels\n",
    "export_csv = df1.to_csv (r'DailyRegression.csv', index = None, header=True)\n",
    "print(df1.head(5))"
   ]
  },
  {
   "cell_type": "code",
   "execution_count": 15,
   "metadata": {},
   "outputs": [
    {
     "data": {
      "text/html": [
       "<div>\n",
       "<style scoped>\n",
       "    .dataframe tbody tr th:only-of-type {\n",
       "        vertical-align: middle;\n",
       "    }\n",
       "\n",
       "    .dataframe tbody tr th {\n",
       "        vertical-align: top;\n",
       "    }\n",
       "\n",
       "    .dataframe thead th {\n",
       "        text-align: right;\n",
       "    }\n",
       "</style>\n",
       "<table border=\"1\" class=\"dataframe\">\n",
       "  <thead>\n",
       "    <tr style=\"text-align: right;\">\n",
       "      <th></th>\n",
       "      <th>ID pedido</th>\n",
       "      <th>Det</th>\n",
       "      <th>etie_nomtienda_0</th>\n",
       "      <th>eped_idtipoped_1</th>\n",
       "      <th>Fecha de entrega</th>\n",
       "      <th>Fin de captura</th>\n",
       "      <th>Venta Neta</th>\n",
       "      <th>Sum_Cant piezas</th>\n",
       "      <th>Lead_Time</th>\n",
       "    </tr>\n",
       "  </thead>\n",
       "  <tbody>\n",
       "    <tr>\n",
       "      <th>0</th>\n",
       "      <td>28076671</td>\n",
       "      <td>1003</td>\n",
       "      <td>PLAYA DEL CARMEN</td>\n",
       "      <td>11</td>\n",
       "      <td>2019-10-28 12:00:00</td>\n",
       "      <td>2019-10-27 11:05:00</td>\n",
       "      <td>832.51</td>\n",
       "      <td>594</td>\n",
       "      <td>1.038194</td>\n",
       "    </tr>\n",
       "    <tr>\n",
       "      <th>1</th>\n",
       "      <td>27504186</td>\n",
       "      <td>1003</td>\n",
       "      <td>PLAYA DEL CARMEN</td>\n",
       "      <td>11</td>\n",
       "      <td>2019-09-10 13:00:00</td>\n",
       "      <td>2019-09-06 16:57:00</td>\n",
       "      <td>655.24</td>\n",
       "      <td>503</td>\n",
       "      <td>3.835417</td>\n",
       "    </tr>\n",
       "    <tr>\n",
       "      <th>2</th>\n",
       "      <td>27612964</td>\n",
       "      <td>1003</td>\n",
       "      <td>PLAYA DEL CARMEN</td>\n",
       "      <td>103</td>\n",
       "      <td>2019-09-19 14:00:00</td>\n",
       "      <td>2019-09-19 10:53:00</td>\n",
       "      <td>7507.84</td>\n",
       "      <td>190</td>\n",
       "      <td>0.129861</td>\n",
       "    </tr>\n",
       "    <tr>\n",
       "      <th>3</th>\n",
       "      <td>27462663</td>\n",
       "      <td>1003</td>\n",
       "      <td>PLAYA DEL CARMEN</td>\n",
       "      <td>103</td>\n",
       "      <td>2019-09-06 13:00:00</td>\n",
       "      <td>2019-09-04 20:09:00</td>\n",
       "      <td>7099.74</td>\n",
       "      <td>188</td>\n",
       "      <td>1.702083</td>\n",
       "    </tr>\n",
       "    <tr>\n",
       "      <th>4</th>\n",
       "      <td>28232574</td>\n",
       "      <td>1003</td>\n",
       "      <td>PLAYA DEL CARMEN</td>\n",
       "      <td>11</td>\n",
       "      <td>2019-11-05 09:00:00</td>\n",
       "      <td>2019-11-04 17:13:00</td>\n",
       "      <td>5272.92</td>\n",
       "      <td>176</td>\n",
       "      <td>0.657639</td>\n",
       "    </tr>\n",
       "  </tbody>\n",
       "</table>\n",
       "</div>"
      ],
      "text/plain": [
       "   ID pedido   Det  etie_nomtienda_0  eped_idtipoped_1    Fecha de entrega  \\\n",
       "0   28076671  1003  PLAYA DEL CARMEN                11 2019-10-28 12:00:00   \n",
       "1   27504186  1003  PLAYA DEL CARMEN                11 2019-09-10 13:00:00   \n",
       "2   27612964  1003  PLAYA DEL CARMEN               103 2019-09-19 14:00:00   \n",
       "3   27462663  1003  PLAYA DEL CARMEN               103 2019-09-06 13:00:00   \n",
       "4   28232574  1003  PLAYA DEL CARMEN                11 2019-11-05 09:00:00   \n",
       "\n",
       "       Fin de captura  Venta Neta  Sum_Cant piezas  Lead_Time  \n",
       "0 2019-10-27 11:05:00      832.51              594   1.038194  \n",
       "1 2019-09-06 16:57:00      655.24              503   3.835417  \n",
       "2 2019-09-19 10:53:00     7507.84              190   0.129861  \n",
       "3 2019-09-04 20:09:00     7099.74              188   1.702083  \n",
       "4 2019-11-04 17:13:00     5272.92              176   0.657639  "
      ]
     },
     "execution_count": 15,
     "metadata": {},
     "output_type": "execute_result"
    }
   ],
   "source": [
    "import pandas as pd\n",
    "import numpy as np\n",
    "dfz = pd.read_csv('Pedidos con piezas.csv')\n",
    "df1a=dfz\n",
    "df2b=dfz\n",
    "df3c=dfz\n",
    "dfa=dfz\n",
    "dfz['Fin de captura'] = pd.to_datetime(dfz['Fin de captura'], format= '%d/%m/%Y %H:%M')\n",
    "dfz['Fecha de entrega'] = pd.to_datetime(dfz['Fecha de entrega'], format= '%d/%m/%Y %H:%M')\n",
    "dfz[\"Lead_Time\"]=dfz[\"Fecha de entrega\"]-dfz[\"Fin de captura\"]\n",
    "dfz['Lead_Time'] = dfz['Lead_Time'].dt.total_seconds() / (24 * 60 * 60)\n",
    "pd.set_option('display.max_columns', None)\n",
    "dfz.head(5)"
   ]
  },
  {
   "cell_type": "code",
   "execution_count": 16,
   "metadata": {},
   "outputs": [
    {
     "data": {
      "text/html": [
       "<div>\n",
       "<style scoped>\n",
       "    .dataframe tbody tr th:only-of-type {\n",
       "        vertical-align: middle;\n",
       "    }\n",
       "\n",
       "    .dataframe tbody tr th {\n",
       "        vertical-align: top;\n",
       "    }\n",
       "\n",
       "    .dataframe thead th {\n",
       "        text-align: right;\n",
       "    }\n",
       "</style>\n",
       "<table border=\"1\" class=\"dataframe\">\n",
       "  <thead>\n",
       "    <tr style=\"text-align: right;\">\n",
       "      <th></th>\n",
       "      <th></th>\n",
       "      <th>Lead_Time</th>\n",
       "    </tr>\n",
       "    <tr>\n",
       "      <th>Fin de captura</th>\n",
       "      <th>etie_nomtienda_0</th>\n",
       "      <th></th>\n",
       "    </tr>\n",
       "  </thead>\n",
       "  <tbody>\n",
       "    <tr>\n",
       "      <th>2019-08-30 00:00:00</th>\n",
       "      <th>5 DE FEBRERO NORTE</th>\n",
       "      <td>3.184722</td>\n",
       "    </tr>\n",
       "    <tr>\n",
       "      <th>2019-08-30 16:00:00</th>\n",
       "      <th>5 DE FEBRERO NORTE</th>\n",
       "      <td>1.659722</td>\n",
       "    </tr>\n",
       "    <tr>\n",
       "      <th>2019-08-31 08:00:00</th>\n",
       "      <th>5 DE FEBRERO NORTE</th>\n",
       "      <td>0.870139</td>\n",
       "    </tr>\n",
       "    <tr>\n",
       "      <th>2019-08-31 16:00:00</th>\n",
       "      <th>5 DE FEBRERO NORTE</th>\n",
       "      <td>0.580015</td>\n",
       "    </tr>\n",
       "    <tr>\n",
       "      <th>2019-09-01 00:00:00</th>\n",
       "      <th>5 DE FEBRERO NORTE</th>\n",
       "      <td>0.331944</td>\n",
       "    </tr>\n",
       "  </tbody>\n",
       "</table>\n",
       "</div>"
      ],
      "text/plain": [
       "                                        Lead_Time\n",
       "Fin de captura      etie_nomtienda_0             \n",
       "2019-08-30 00:00:00 5 DE FEBRERO NORTE   3.184722\n",
       "2019-08-30 16:00:00 5 DE FEBRERO NORTE   1.659722\n",
       "2019-08-31 08:00:00 5 DE FEBRERO NORTE   0.870139\n",
       "2019-08-31 16:00:00 5 DE FEBRERO NORTE   0.580015\n",
       "2019-09-01 00:00:00 5 DE FEBRERO NORTE   0.331944"
      ]
     },
     "execution_count": 16,
     "metadata": {},
     "output_type": "execute_result"
    }
   ],
   "source": [
    "from datetime import timedelta, date, datetime\n",
    "df1a['Fin de captura'] = pd.to_datetime(df1a['Fin de captura'], format= '%d/%m/%Y %H:%M')\n",
    "df1a['Fecha de entrega'] = pd.to_datetime(df1a['Fecha de entrega'], format= '%d/%m/%Y %H:%M')\n",
    "df1a[\"Lead_Time\"]=df1a[\"Fecha de entrega\"]-df1a[\"Fin de captura\"]\n",
    "df1a['Lead_Time'] = df1a['Lead_Time'].dt.total_seconds() / (24 * 60 * 60)\n",
    "df1a = df1a.drop(columns=[\"Det\", \"ID pedido\", \"Sum_Cant piezas\", \"Venta Neta\",\"Fecha de entrega\",\"eped_idtipoped_1\"])\n",
    "df1a=df1a.set_index('Fin de captura').groupby([pd.Grouper(freq='8H'), 'etie_nomtienda_0']).mean()\n",
    "df1a=df1a.sort_values(['etie_nomtienda_0'], ascending=[True])\n",
    "df1a=df1a.sort_values(['etie_nomtienda_0', 'Fin de captura'], ascending=[True, True])\n",
    "df1a.head(5)"
   ]
  },
  {
   "cell_type": "code",
   "execution_count": 17,
   "metadata": {},
   "outputs": [
    {
     "data": {
      "text/html": [
       "<div>\n",
       "<style scoped>\n",
       "    .dataframe tbody tr th:only-of-type {\n",
       "        vertical-align: middle;\n",
       "    }\n",
       "\n",
       "    .dataframe tbody tr th {\n",
       "        vertical-align: top;\n",
       "    }\n",
       "\n",
       "    .dataframe thead th {\n",
       "        text-align: right;\n",
       "    }\n",
       "</style>\n",
       "<table border=\"1\" class=\"dataframe\">\n",
       "  <thead>\n",
       "    <tr style=\"text-align: right;\">\n",
       "      <th></th>\n",
       "      <th></th>\n",
       "      <th>Lead_Time</th>\n",
       "    </tr>\n",
       "    <tr>\n",
       "      <th>Fin de captura</th>\n",
       "      <th>etie_nomtienda_0</th>\n",
       "      <th></th>\n",
       "    </tr>\n",
       "  </thead>\n",
       "  <tbody>\n",
       "    <tr>\n",
       "      <th>2019-08-30 00:00:00</th>\n",
       "      <th>5 DE FEBRERO NORTE</th>\n",
       "      <td>0.000000</td>\n",
       "    </tr>\n",
       "    <tr>\n",
       "      <th>2019-08-30 16:00:00</th>\n",
       "      <th>5 DE FEBRERO NORTE</th>\n",
       "      <td>0.000000</td>\n",
       "    </tr>\n",
       "    <tr>\n",
       "      <th>2019-08-31 08:00:00</th>\n",
       "      <th>5 DE FEBRERO NORTE</th>\n",
       "      <td>0.000000</td>\n",
       "    </tr>\n",
       "    <tr>\n",
       "      <th>2019-08-31 16:00:00</th>\n",
       "      <th>5 DE FEBRERO NORTE</th>\n",
       "      <td>0.107466</td>\n",
       "    </tr>\n",
       "    <tr>\n",
       "      <th>2019-09-01 00:00:00</th>\n",
       "      <th>5 DE FEBRERO NORTE</th>\n",
       "      <td>0.000000</td>\n",
       "    </tr>\n",
       "  </tbody>\n",
       "</table>\n",
       "</div>"
      ],
      "text/plain": [
       "                                        Lead_Time\n",
       "Fin de captura      etie_nomtienda_0             \n",
       "2019-08-30 00:00:00 5 DE FEBRERO NORTE   0.000000\n",
       "2019-08-30 16:00:00 5 DE FEBRERO NORTE   0.000000\n",
       "2019-08-31 08:00:00 5 DE FEBRERO NORTE   0.000000\n",
       "2019-08-31 16:00:00 5 DE FEBRERO NORTE   0.107466\n",
       "2019-09-01 00:00:00 5 DE FEBRERO NORTE   0.000000"
      ]
     },
     "execution_count": 17,
     "metadata": {},
     "output_type": "execute_result"
    }
   ],
   "source": [
    "df2b['Fin de captura'] = pd.to_datetime(df2b['Fin de captura'], format= '%d/%m/%Y %H:%M')\n",
    "df2b['Fecha de entrega'] = pd.to_datetime(df2b['Fecha de entrega'], format= '%d/%m/%Y %H:%M')\n",
    "df2b[\"Lead_Time\"]=df2b[\"Fecha de entrega\"]-df2b[\"Fin de captura\"]\n",
    "df2b['Lead_Time'] = df2b['Lead_Time'].dt.total_seconds() / (24 * 60 * 60)\n",
    "df2b = df2b.drop(columns=[\"Det\", \"ID pedido\", \"Sum_Cant piezas\", \"Venta Neta\",\"Fecha de entrega\",\"eped_idtipoped_1\"])\n",
    "df2b=df2b.set_index('Fin de captura').groupby([pd.Grouper(freq='8H'), 'etie_nomtienda_0']).apply(np.std)\n",
    "df2b=df2b.sort_values(['etie_nomtienda_0'], ascending=[True])\n",
    "df2b=df2b.sort_values(['etie_nomtienda_0', 'Fin de captura'], ascending=[True, True])\n",
    "df2b.head(5)"
   ]
  },
  {
   "cell_type": "code",
   "execution_count": 18,
   "metadata": {},
   "outputs": [
    {
     "data": {
      "text/html": [
       "<div>\n",
       "<style scoped>\n",
       "    .dataframe tbody tr th:only-of-type {\n",
       "        vertical-align: middle;\n",
       "    }\n",
       "\n",
       "    .dataframe tbody tr th {\n",
       "        vertical-align: top;\n",
       "    }\n",
       "\n",
       "    .dataframe thead th {\n",
       "        text-align: right;\n",
       "    }\n",
       "</style>\n",
       "<table border=\"1\" class=\"dataframe\">\n",
       "  <thead>\n",
       "    <tr style=\"text-align: right;\">\n",
       "      <th></th>\n",
       "      <th></th>\n",
       "      <th>Lead_Time</th>\n",
       "    </tr>\n",
       "    <tr>\n",
       "      <th>Fin de captura</th>\n",
       "      <th>etie_nomtienda_0</th>\n",
       "      <th></th>\n",
       "    </tr>\n",
       "  </thead>\n",
       "  <tbody>\n",
       "    <tr>\n",
       "      <th>2019-08-30 00:00:00</th>\n",
       "      <th>5 DE FEBRERO NORTE</th>\n",
       "      <td>1</td>\n",
       "    </tr>\n",
       "    <tr>\n",
       "      <th>2019-08-30 16:00:00</th>\n",
       "      <th>5 DE FEBRERO NORTE</th>\n",
       "      <td>1</td>\n",
       "    </tr>\n",
       "    <tr>\n",
       "      <th>2019-08-31 08:00:00</th>\n",
       "      <th>5 DE FEBRERO NORTE</th>\n",
       "      <td>1</td>\n",
       "    </tr>\n",
       "    <tr>\n",
       "      <th>2019-08-31 16:00:00</th>\n",
       "      <th>5 DE FEBRERO NORTE</th>\n",
       "      <td>9</td>\n",
       "    </tr>\n",
       "    <tr>\n",
       "      <th>2019-09-01 00:00:00</th>\n",
       "      <th>5 DE FEBRERO NORTE</th>\n",
       "      <td>1</td>\n",
       "    </tr>\n",
       "  </tbody>\n",
       "</table>\n",
       "</div>"
      ],
      "text/plain": [
       "                                        Lead_Time\n",
       "Fin de captura      etie_nomtienda_0             \n",
       "2019-08-30 00:00:00 5 DE FEBRERO NORTE          1\n",
       "2019-08-30 16:00:00 5 DE FEBRERO NORTE          1\n",
       "2019-08-31 08:00:00 5 DE FEBRERO NORTE          1\n",
       "2019-08-31 16:00:00 5 DE FEBRERO NORTE          9\n",
       "2019-09-01 00:00:00 5 DE FEBRERO NORTE          1"
      ]
     },
     "execution_count": 18,
     "metadata": {},
     "output_type": "execute_result"
    }
   ],
   "source": [
    "df3c['Fin de captura'] = pd.to_datetime(df3c['Fin de captura'], format= '%d/%m/%Y %H:%M')\n",
    "df3c['Fecha de entrega'] = pd.to_datetime(df3c['Fecha de entrega'], format= '%d/%m/%Y %H:%M')\n",
    "df3c[\"Lead_Time\"]=df3c[\"Fecha de entrega\"]-df3c[\"Fin de captura\"]\n",
    "df3c['Lead_Time'] = df3c['Lead_Time'].dt.total_seconds() / (24 * 60 * 60)\n",
    "df3c = df3c.drop(columns=[\"Det\", \"ID pedido\", \"Sum_Cant piezas\", \"Venta Neta\",\"Fecha de entrega\",\"eped_idtipoped_1\"])\n",
    "df3c=df3c.set_index('Fin de captura').groupby([pd.Grouper(freq='8H'), 'etie_nomtienda_0']).count()\n",
    "df3c=df3c.sort_values(['etie_nomtienda_0'], ascending=[True])\n",
    "df3c=df3c.sort_values(['etie_nomtienda_0', 'Fin de captura'], ascending=[True, True])\n",
    "df3c.head(5)"
   ]
  },
  {
   "cell_type": "code",
   "execution_count": 19,
   "metadata": {},
   "outputs": [
    {
     "name": "stdout",
     "output_type": "stream",
     "text": [
      "     Fin de captura    etie_nomtienda_0  Lead_Time\n",
      "0                 0  5 DE FEBRERO NORTE   3.184722\n",
      "122               0  5 DE FEBRERO NORTE   0.363889\n",
      "125               0  5 DE FEBRERO NORTE   0.451889\n",
      "128               0  5 DE FEBRERO NORTE   0.134028\n",
      "136               0  5 DE FEBRERO NORTE   1.247814\n"
     ]
    }
   ],
   "source": [
    "from scipy.stats import norm\n",
    "df5e=df1a+norm.ppf(0.95)*df2b.div(df3c**(1/2),axis=0)\n",
    "df5e = df5e.reset_index()\n",
    "def hr_func(ts):\n",
    "    return ts.hour\n",
    "df5e['Fin de captura']= df5e['Fin de captura'].apply(hr_func)\n",
    "df5e=df5e.sort_values(['etie_nomtienda_0'], ascending=[True])\n",
    "df5e=df5e.sort_values(['etie_nomtienda_0', 'Fin de captura'], ascending=[True, True])\n",
    "df6f=df5e\n",
    "df7g=df5e\n",
    "df8h=df5e\n",
    "print(df5e.head(5))"
   ]
  },
  {
   "cell_type": "code",
   "execution_count": 20,
   "metadata": {},
   "outputs": [
    {
     "name": "stdout",
     "output_type": "stream",
     "text": [
      "                                   Lead_Time\n",
      "etie_nomtienda_0   Fin de captura           \n",
      "5 DE FEBRERO NORTE 0                0.748919\n",
      "                   8                0.340475\n",
      "                   16               0.714722\n",
      "ACAPULCO           0                0.591623\n",
      "                   8                0.382542\n",
      "                   16               0.668601\n",
      "ACAPULCO DIAMANTE  0                0.564763\n",
      "                   8                0.560678\n",
      "                   16               0.846574\n",
      "AEROPUERTO         0                0.576211\n"
     ]
    }
   ],
   "source": [
    "df6f =df6f.set_index('Fin de captura').groupby(['etie_nomtienda_0','Fin de captura']).apply(np.mean)\n",
    "print(df6f.head(10))"
   ]
  },
  {
   "cell_type": "code",
   "execution_count": 21,
   "metadata": {},
   "outputs": [
    {
     "name": "stdout",
     "output_type": "stream",
     "text": [
      "                                   Lead_Time\n",
      "etie_nomtienda_0   Fin de captura           \n",
      "5 DE FEBRERO NORTE 0                0.621572\n",
      "                   8                0.173662\n",
      "                   16               0.218936\n",
      "ACAPULCO           0                0.730729\n",
      "                   8                0.165098\n",
      "                   16               0.215076\n",
      "ACAPULCO DIAMANTE  0                0.591401\n",
      "                   8                0.541284\n",
      "                   16               0.514199\n",
      "AEROPUERTO         0                0.334301\n"
     ]
    }
   ],
   "source": [
    "df7g =df7g.set_index('Fin de captura').groupby([ 'etie_nomtienda_0','Fin de captura']).apply(np.std)\n",
    "print(df7g.head(10))"
   ]
  },
  {
   "cell_type": "code",
   "execution_count": 22,
   "metadata": {},
   "outputs": [
    {
     "name": "stdout",
     "output_type": "stream",
     "text": [
      "                                   Lead_Time\n",
      "etie_nomtienda_0   Fin de captura           \n",
      "5 DE FEBRERO NORTE 0                      56\n",
      "                   8                      67\n",
      "                   16                     67\n",
      "ACAPULCO           0                      52\n",
      "                   8                      67\n",
      "                   16                     66\n",
      "ACAPULCO DIAMANTE  0                      51\n",
      "                   8                      67\n",
      "                   16                     67\n",
      "AEROPUERTO         0                      68\n"
     ]
    }
   ],
   "source": [
    "df8h =df8h.set_index('Fin de captura').groupby([ 'etie_nomtienda_0','Fin de captura']).count()\n",
    "print(df8h.head(10))"
   ]
  },
  {
   "cell_type": "code",
   "execution_count": 23,
   "metadata": {},
   "outputs": [
    {
     "name": "stdout",
     "output_type": "stream",
     "text": [
      "                                   Lead_Time\n",
      "etie_nomtienda_0   Fin de captura           \n",
      "5 DE FEBRERO NORTE 0                0.885543\n",
      "                   8                0.375372\n",
      "                   16               0.758717\n",
      "ACAPULCO           0                0.758302\n",
      "                   8                0.415718\n",
      "                   16               0.712147\n",
      "ACAPULCO DIAMANTE  0                0.700978\n",
      "                   8                0.669450\n",
      "                   16               0.949902\n",
      "AEROPUERTO         0                0.642893\n"
     ]
    }
   ],
   "source": [
    "df9i=df6f+norm.ppf(0.95)*df7g.div(df8h**(1/2),axis=0)\n",
    "print(df9i.head(10))"
   ]
  },
  {
   "cell_type": "code",
   "execution_count": 24,
   "metadata": {},
   "outputs": [
    {
     "name": "stdout",
     "output_type": "stream",
     "text": [
      "                                        Sum_Cant piezas  Lead_Time\n",
      "Fin de captura      etie_nomtienda_0                              \n",
      "2019-08-30 00:00:00 5 DE FEBRERO NORTE                4   3.184722\n",
      "2019-08-30 16:00:00 5 DE FEBRERO NORTE               35   1.659722\n",
      "2019-08-31 08:00:00 5 DE FEBRERO NORTE               39   0.870139\n",
      "2019-08-31 16:00:00 5 DE FEBRERO NORTE              297   5.220139\n",
      "2019-09-01 00:00:00 5 DE FEBRERO NORTE               35   0.331944\n",
      "Weight coefficients:  [[0.01143866]]\n",
      "y-axis intercept:  [1.51805109]\n",
      "                            OLS Regression Results                            \n",
      "==============================================================================\n",
      "Dep. Variable:                      y   R-squared:                       0.457\n",
      "Model:                            OLS   Adj. R-squared:                  0.457\n",
      "Method:                 Least Squares   F-statistic:                 2.462e+04\n",
      "Date:                Tue, 12 Nov 2019   Prob (F-statistic):               0.00\n",
      "Time:                        10:48:34   Log-Likelihood:                -93780.\n",
      "No. Observations:               29281   AIC:                         1.876e+05\n",
      "Df Residuals:                   29279   BIC:                         1.876e+05\n",
      "Df Model:                           1                                         \n",
      "Covariance Type:            nonrobust                                         \n",
      "==============================================================================\n",
      "                 coef    std err          t      P>|t|      [0.025      0.975]\n",
      "------------------------------------------------------------------------------\n",
      "const          1.5181      0.045     34.102      0.000       1.431       1.605\n",
      "x1             0.0114   7.29e-05    156.909      0.000       0.011       0.012\n",
      "==============================================================================\n",
      "Omnibus:                    43847.240   Durbin-Watson:                   1.594\n",
      "Prob(Omnibus):                  0.000   Jarque-Bera (JB):         61060057.221\n",
      "Skew:                           8.788   Prob(JB):                         0.00\n",
      "Kurtosis:                     226.022   Cond. No.                         781.\n",
      "==============================================================================\n",
      "\n",
      "Warnings:\n",
      "[1] Standard Errors assume that the covariance matrix of the errors is correctly specified.\n",
      "Normality Test of Error Statistics=0.583, p=0.000\n",
      "Normality Test of Error Statistics=0.692, p=0.000\n",
      "Mean Squared Error (MSE): 35.4327235063277\n",
      "R-squared (R2 ): 0.4567831082326774\n"
     ]
    },
    {
     "name": "stderr",
     "output_type": "stream",
     "text": [
      "C:\\Users\\pipe_\\Anaconda3\\lib\\site-packages\\scipy\\stats\\morestats.py:1653: UserWarning: p-value may not be accurate for N > 5000.\n",
      "  warnings.warn(\"p-value may not be accurate for N > 5000.\")\n",
      "C:\\Users\\pipe_\\Anaconda3\\lib\\site-packages\\scipy\\stats\\morestats.py:1653: UserWarning: p-value may not be accurate for N > 5000.\n",
      "  warnings.warn(\"p-value may not be accurate for N > 5000.\")\n"
     ]
    }
   ],
   "source": [
    "from datetime import timedelta, date, datetime\n",
    "dfa=dfz\n",
    "dfa['Fin de captura'] = pd.to_datetime(dfa['Fin de captura'], format= '%d/%m/%Y %H:%M')\n",
    "dfa['Fecha de entrega'] = pd.to_datetime(dfa['Fecha de entrega'], format= '%d/%m/%Y %H:%M')\n",
    "dfa = dfa.drop(columns=[\"Det\", \"ID pedido\", \"Venta Neta\",\"Fecha de entrega\",\"eped_idtipoped_1\"])\n",
    "dfa=dfa.set_index('Fin de captura').groupby([pd.Grouper(freq='8H'), 'etie_nomtienda_0']).sum()\n",
    "dfa=dfa.sort_values(['etie_nomtienda_0', 'Fin de captura'], ascending=[True, True])\n",
    "print(dfa.head())\n",
    "X = dfa['Sum_Cant piezas'].values.reshape(-1, 1)\n",
    "y = dfa['Lead_Time'].values.reshape(-1, 1)\n",
    "model = LinearRegression()\n",
    "model.fit(X, y)\n",
    "predictions = model.predict(X)\n",
    "print('Weight coefficients: ', model.coef_)\n",
    "print('y-axis intercept: ', model.intercept_) \n",
    "mse = mean_squared_error(y, predictions)\n",
    "r2 = r2_score(y, predictions)\n",
    "X2 = sm.add_constant(X)\n",
    "est = sm.OLS(y, X2)\n",
    "est2 = est.fit()\n",
    "residuals = est2.fittedvalues\n",
    "Error_Frame= pd.DataFrame(residuals)-pd.DataFrame(y)\n",
    "statE, pE = shapiro(Error_Frame) \n",
    "stat, p = shapiro(X) \n",
    "print(est2.summary())\n",
    "print('Normality Test of Error Statistics=%.3f, p=%.3f' % (statE, pE) )\n",
    "print('Normality Test of Error Statistics=%.3f, p=%.3f' % (stat, p) )\n",
    "print(f\"Mean Squared Error (MSE): {mse}\")\n",
    "print(f\"R-squared (R2 ): {r2}\")"
   ]
  },
  {
   "cell_type": "code",
   "execution_count": 25,
   "metadata": {},
   "outputs": [
    {
     "name": "stdout",
     "output_type": "stream",
     "text": [
      "                                        Sum_Cant piezas  Lead_Time\n",
      "Fin de captura      etie_nomtienda_0                              \n",
      "2019-08-30 00:00:00 5 DE FEBRERO NORTE              4.0   3.184722\n",
      "2019-08-30 16:00:00 5 DE FEBRERO NORTE             35.0   1.659722\n",
      "2019-08-31 08:00:00 5 DE FEBRERO NORTE             39.0   0.870139\n",
      "2019-08-31 16:00:00 5 DE FEBRERO NORTE             33.0   0.580015\n",
      "2019-09-01 00:00:00 5 DE FEBRERO NORTE             35.0   0.331944\n"
     ]
    }
   ],
   "source": [
    "from datetime import timedelta, date, datetime\n",
    "dfa=dfz\n",
    "dfa['Fin de captura'] = pd.to_datetime(dfa['Fin de captura'], format= '%d/%m/%Y %H:%M')\n",
    "dfa['Fecha de entrega'] = pd.to_datetime(dfa['Fecha de entrega'], format= '%d/%m/%Y %H:%M')\n",
    "dfa = dfa.drop(columns=[\"Det\", \"ID pedido\", \"Venta Neta\",\"Fecha de entrega\",\"eped_idtipoped_1\"])\n",
    "dfa=dfa.set_index('Fin de captura').groupby([pd.Grouper(freq='8H'), 'etie_nomtienda_0']).mean()\n",
    "dfa=dfa.sort_values(['etie_nomtienda_0', 'Fin de captura'], ascending=[True, True])\n",
    "print(dfa.head())"
   ]
  },
  {
   "cell_type": "code",
   "execution_count": 26,
   "metadata": {},
   "outputs": [
    {
     "data": {
      "text/html": [
       "<div>\n",
       "<style scoped>\n",
       "    .dataframe tbody tr th:only-of-type {\n",
       "        vertical-align: middle;\n",
       "    }\n",
       "\n",
       "    .dataframe tbody tr th {\n",
       "        vertical-align: top;\n",
       "    }\n",
       "\n",
       "    .dataframe thead th {\n",
       "        text-align: right;\n",
       "    }\n",
       "</style>\n",
       "<table border=\"1\" class=\"dataframe\">\n",
       "  <thead>\n",
       "    <tr style=\"text-align: right;\">\n",
       "      <th></th>\n",
       "      <th>Fin de captura</th>\n",
       "      <th>etie_nomtienda_0</th>\n",
       "      <th>Sum_Cant piezas</th>\n",
       "      <th>Lead_Time</th>\n",
       "    </tr>\n",
       "  </thead>\n",
       "  <tbody>\n",
       "    <tr>\n",
       "      <th>0</th>\n",
       "      <td>0</td>\n",
       "      <td>5 DE FEBRERO NORTE</td>\n",
       "      <td>4.0</td>\n",
       "      <td>3.184722</td>\n",
       "    </tr>\n",
       "    <tr>\n",
       "      <th>122</th>\n",
       "      <td>0</td>\n",
       "      <td>5 DE FEBRERO NORTE</td>\n",
       "      <td>8.0</td>\n",
       "      <td>0.363889</td>\n",
       "    </tr>\n",
       "    <tr>\n",
       "      <th>125</th>\n",
       "      <td>0</td>\n",
       "      <td>5 DE FEBRERO NORTE</td>\n",
       "      <td>9.5</td>\n",
       "      <td>0.294792</td>\n",
       "    </tr>\n",
       "    <tr>\n",
       "      <th>128</th>\n",
       "      <td>0</td>\n",
       "      <td>5 DE FEBRERO NORTE</td>\n",
       "      <td>11.0</td>\n",
       "      <td>0.134028</td>\n",
       "    </tr>\n",
       "    <tr>\n",
       "      <th>136</th>\n",
       "      <td>0</td>\n",
       "      <td>5 DE FEBRERO NORTE</td>\n",
       "      <td>11.0</td>\n",
       "      <td>0.857292</td>\n",
       "    </tr>\n",
       "  </tbody>\n",
       "</table>\n",
       "</div>"
      ],
      "text/plain": [
       "     Fin de captura    etie_nomtienda_0  Sum_Cant piezas  Lead_Time\n",
       "0                 0  5 DE FEBRERO NORTE              4.0   3.184722\n",
       "122               0  5 DE FEBRERO NORTE              8.0   0.363889\n",
       "125               0  5 DE FEBRERO NORTE              9.5   0.294792\n",
       "128               0  5 DE FEBRERO NORTE             11.0   0.134028\n",
       "136               0  5 DE FEBRERO NORTE             11.0   0.857292"
      ]
     },
     "execution_count": 26,
     "metadata": {},
     "output_type": "execute_result"
    }
   ],
   "source": [
    "dfa = dfa.reset_index()\n",
    "def hr_func(ts):\n",
    "    return ts.hour\n",
    "dfa['Fin de captura']= dfa['Fin de captura'].apply(hr_func)\n",
    "dfa=dfa.sort_values(['etie_nomtienda_0'], ascending=[True])\n",
    "dfa=dfa.sort_values(['etie_nomtienda_0', 'Fin de captura'], ascending=[True, True])\n",
    "dfa.head(5)"
   ]
  },
  {
   "cell_type": "code",
   "execution_count": 27,
   "metadata": {
    "scrolled": true
   },
   "outputs": [
    {
     "data": {
      "text/html": [
       "<div>\n",
       "<style scoped>\n",
       "    .dataframe tbody tr th:only-of-type {\n",
       "        vertical-align: middle;\n",
       "    }\n",
       "\n",
       "    .dataframe tbody tr th {\n",
       "        vertical-align: top;\n",
       "    }\n",
       "\n",
       "    .dataframe thead th {\n",
       "        text-align: right;\n",
       "    }\n",
       "</style>\n",
       "<table border=\"1\" class=\"dataframe\">\n",
       "  <thead>\n",
       "    <tr style=\"text-align: right;\">\n",
       "      <th></th>\n",
       "      <th></th>\n",
       "      <th>Sum_Cant piezas</th>\n",
       "      <th>Lead_Time</th>\n",
       "    </tr>\n",
       "    <tr>\n",
       "      <th>etie_nomtienda_0</th>\n",
       "      <th>Fin de captura</th>\n",
       "      <th></th>\n",
       "      <th></th>\n",
       "    </tr>\n",
       "  </thead>\n",
       "  <tbody>\n",
       "    <tr>\n",
       "      <th rowspan=\"3\" valign=\"top\">5 DE FEBRERO NORTE</th>\n",
       "      <th>0</th>\n",
       "      <td>23.995861</td>\n",
       "      <td>0.561723</td>\n",
       "    </tr>\n",
       "    <tr>\n",
       "      <th>8</th>\n",
       "      <td>24.917360</td>\n",
       "      <td>0.256125</td>\n",
       "    </tr>\n",
       "    <tr>\n",
       "      <th>16</th>\n",
       "      <td>30.985737</td>\n",
       "      <td>0.592732</td>\n",
       "    </tr>\n",
       "    <tr>\n",
       "      <th rowspan=\"2\" valign=\"top\">ACAPULCO</th>\n",
       "      <th>0</th>\n",
       "      <td>36.504686</td>\n",
       "      <td>0.421983</td>\n",
       "    </tr>\n",
       "    <tr>\n",
       "      <th>8</th>\n",
       "      <td>26.070928</td>\n",
       "      <td>0.289303</td>\n",
       "    </tr>\n",
       "  </tbody>\n",
       "</table>\n",
       "</div>"
      ],
      "text/plain": [
       "                                   Sum_Cant piezas  Lead_Time\n",
       "etie_nomtienda_0   Fin de captura                            \n",
       "5 DE FEBRERO NORTE 0                     23.995861   0.561723\n",
       "                   8                     24.917360   0.256125\n",
       "                   16                    30.985737   0.592732\n",
       "ACAPULCO           0                     36.504686   0.421983\n",
       "                   8                     26.070928   0.289303"
      ]
     },
     "execution_count": 27,
     "metadata": {},
     "output_type": "execute_result"
    }
   ],
   "source": [
    "dfa =dfa.set_index('Fin de captura').groupby(['etie_nomtienda_0','Fin de captura']).mean()\n",
    "dfa.head(5)"
   ]
  },
  {
   "cell_type": "code",
   "execution_count": 28,
   "metadata": {},
   "outputs": [
    {
     "data": {
      "text/html": [
       "<div>\n",
       "<style scoped>\n",
       "    .dataframe tbody tr th:only-of-type {\n",
       "        vertical-align: middle;\n",
       "    }\n",
       "\n",
       "    .dataframe tbody tr th {\n",
       "        vertical-align: top;\n",
       "    }\n",
       "\n",
       "    .dataframe thead th {\n",
       "        text-align: right;\n",
       "    }\n",
       "</style>\n",
       "<table border=\"1\" class=\"dataframe\">\n",
       "  <thead>\n",
       "    <tr style=\"text-align: right;\">\n",
       "      <th></th>\n",
       "      <th></th>\n",
       "      <th>Sum_Cant piezas</th>\n",
       "      <th>Lead_Time_x</th>\n",
       "      <th>Mano de Obra</th>\n",
       "      <th>Lead_Time_y</th>\n",
       "    </tr>\n",
       "    <tr>\n",
       "      <th>etie_nomtienda_0</th>\n",
       "      <th>Fin de captura</th>\n",
       "      <th></th>\n",
       "      <th></th>\n",
       "      <th></th>\n",
       "      <th></th>\n",
       "    </tr>\n",
       "  </thead>\n",
       "  <tbody>\n",
       "    <tr>\n",
       "      <th rowspan=\"3\" valign=\"top\">5 DE FEBRERO NORTE</th>\n",
       "      <th>0</th>\n",
       "      <td>23.995861</td>\n",
       "      <td>0.561723</td>\n",
       "      <td>4.556647</td>\n",
       "      <td>0.885543</td>\n",
       "    </tr>\n",
       "    <tr>\n",
       "      <th>8</th>\n",
       "      <td>24.917360</td>\n",
       "      <td>0.256125</td>\n",
       "      <td>4.574340</td>\n",
       "      <td>0.375372</td>\n",
       "    </tr>\n",
       "    <tr>\n",
       "      <th>16</th>\n",
       "      <td>30.985737</td>\n",
       "      <td>0.592732</td>\n",
       "      <td>4.690857</td>\n",
       "      <td>0.758717</td>\n",
       "    </tr>\n",
       "    <tr>\n",
       "      <th rowspan=\"2\" valign=\"top\">ACAPULCO</th>\n",
       "      <th>0</th>\n",
       "      <td>36.504686</td>\n",
       "      <td>0.421983</td>\n",
       "      <td>4.796825</td>\n",
       "      <td>0.758302</td>\n",
       "    </tr>\n",
       "    <tr>\n",
       "      <th>8</th>\n",
       "      <td>26.070928</td>\n",
       "      <td>0.289303</td>\n",
       "      <td>4.596490</td>\n",
       "      <td>0.415718</td>\n",
       "    </tr>\n",
       "  </tbody>\n",
       "</table>\n",
       "</div>"
      ],
      "text/plain": [
       "                                   Sum_Cant piezas  Lead_Time_x  Mano de Obra  \\\n",
       "etie_nomtienda_0   Fin de captura                                               \n",
       "5 DE FEBRERO NORTE 0                     23.995861     0.561723      4.556647   \n",
       "                   8                     24.917360     0.256125      4.574340   \n",
       "                   16                    30.985737     0.592732      4.690857   \n",
       "ACAPULCO           0                     36.504686     0.421983      4.796825   \n",
       "                   8                     26.070928     0.289303      4.596490   \n",
       "\n",
       "                                   Lead_Time_y  \n",
       "etie_nomtienda_0   Fin de captura               \n",
       "5 DE FEBRERO NORTE 0                  0.885543  \n",
       "                   8                  0.375372  \n",
       "                   16                 0.758717  \n",
       "ACAPULCO           0                  0.758302  \n",
       "                   8                  0.415718  "
      ]
     },
     "execution_count": 28,
     "metadata": {},
     "output_type": "execute_result"
    }
   ],
   "source": [
    "dfa['Mano de Obra'] =((0.01280044*dfa['Sum_Cant piezas']+2.73060713)*24/(8))/2\n",
    "dfa = pd.merge(left=dfa,right=df9i,on=['etie_nomtienda_0', 'Fin de captura'])\n",
    "dfa.head(5)"
   ]
  },
  {
   "cell_type": "code",
   "execution_count": 29,
   "metadata": {},
   "outputs": [
    {
     "data": {
      "image/png": "[encoded data removed]",
      "text/plain": [
       "<Figure size 432x288 with 1 Axes>"
      ]
     },
     "metadata": {
      "needs_background": "light"
     },
     "output_type": "display_data"
    }
   ],
   "source": [
    "from sklearn.cluster import KMeans\n",
    "Ya=dfa['Mano de Obra'].values.reshape(-1, 1)\n",
    "Sum_of_squared_distances = []\n",
    "K = range(1,15)\n",
    "for k in K:\n",
    "    km = KMeans(n_clusters=k)\n",
    "    km = km.fit(Ya)\n",
    "    Sum_of_squared_distances.append(km.inertia_)\n",
    "plt.plot(K, Sum_of_squared_distances, 'bx-')\n",
    "plt.xlabel('k')\n",
    "plt.ylabel('Sum_of_squared_distances')\n",
    "plt.title('Elbow Method For Optimal k')\n",
    "plt.show()\n"
   ]
  },
  {
   "cell_type": "code",
   "execution_count": 30,
   "metadata": {
    "scrolled": false
   },
   "outputs": [
    {
     "name": "stdout",
     "output_type": "stream",
     "text": [
      "[[4.618269  ]\n",
      " [4.48962559]\n",
      " [5.25247608]\n",
      " [4.72490731]]\n",
      "(477,)\n",
      "[0 0 3 3 0 3 0 0 3 3 0 0 3 0 0 0 1 1 3 0 0 3 3 3 1 1 1 0 0 3 0 0 0 3 0 0 3\n",
      " 0 0 0 0 0 3 0 0 0 3 0 3 0 0 0 0 0 3 0 0 0 3 3 1 1 1 3 3 0 0 3 1 3 0 0 0 1\n",
      " 1 1 0 0 3 0 0 0 0 0 3 0 0 1 1 1 1 1 1 3 3 3 3 3 3 0 0 3 0 0 0 3 0 0 3 0 0\n",
      " 0 0 0 3 1 1 0 0 3 3 0 3 1 1 1 0 0 0 1 1 1 3 3 3 0 3 0 3 1 1 0 0 3 3 1 1 3\n",
      " 3 3 3 0 0 1 0 1 3 2 3 3 1 0 0 3 3 1 1 1 0 1 1 0 0 0 3 0 3 3 0 0 3 3 0 0 0\n",
      " 0 0 3 0 0 0 0 1 0 1 3 3 3 0 0 1 0 0 1 3 0 0 0 0 3 1 0 0 0 3 3 3 3 3 3 0 3\n",
      " 3 0 0 0 0 0 0 1 0 1 1 0 1 1 1 0 0 0 0 1 1 3 3 3 3 0 0 0 0 0 0 3 0 0 0 0 3\n",
      " 0 3 1 1 1 0 0 1 0 0 0 0 0 1 3 3 3 0 0 0 3 0 3 3 3 3 3 0 3 3 0 0 0 0 0 3 0\n",
      " 3 0 1 0 0 3 3 0 0 0 0 0 0 3 0 0 3 0 3 0 0 1 0 1 1 0 0 0 0 3 0 0 0 3 1 1 1\n",
      " 3 3 0 3 3 3 3 3 0 1 1 0 3 0 3 0 3 0 0 0 0 3 0 0 0 1 1 0 0 3 0 0 0 0 0 0 0\n",
      " 0 1 0 0 0 2 0 0 1 1 0 0 3 0 3 0 3 0 0 0 0 0 0 0 1 1 1 0 0 1 0 3 3 3 3 1 1\n",
      " 0 1 1 0 1 0 0 3 3 3 0 0 0 1 0 1 0 1 1 3 0 3 0 0 0 0 0 0 3 0 3 1 1 1 1 0 1\n",
      " 3 0 0 0 1 0 1 0 0 3 3 3 0 0 0 3 0 0 0 0 3 3 3 3 3 0 3 0 3 3 0 0 0]\n"
     ]
    },
    {
     "data": {
      "text/html": [
       "<div>\n",
       "<style scoped>\n",
       "    .dataframe tbody tr th:only-of-type {\n",
       "        vertical-align: middle;\n",
       "    }\n",
       "\n",
       "    .dataframe tbody tr th {\n",
       "        vertical-align: top;\n",
       "    }\n",
       "\n",
       "    .dataframe thead th {\n",
       "        text-align: right;\n",
       "    }\n",
       "</style>\n",
       "<table border=\"1\" class=\"dataframe\">\n",
       "  <thead>\n",
       "    <tr style=\"text-align: right;\">\n",
       "      <th></th>\n",
       "      <th>etie_nomtienda_0</th>\n",
       "      <th>Fin de captura</th>\n",
       "      <th>Sum_Cant piezas</th>\n",
       "      <th>Lead_Time_x</th>\n",
       "      <th>Mano de Obra</th>\n",
       "      <th>Lead_Time_y</th>\n",
       "      <th>Clasifica2</th>\n",
       "      <th>Horas Estimadas Para Entregar</th>\n",
       "    </tr>\n",
       "  </thead>\n",
       "  <tbody>\n",
       "    <tr>\n",
       "      <th>0</th>\n",
       "      <td>5 DE FEBRERO NORTE</td>\n",
       "      <td>0</td>\n",
       "      <td>23.995861</td>\n",
       "      <td>0.561723</td>\n",
       "      <td>4.556647</td>\n",
       "      <td>0.885543</td>\n",
       "      <td>0</td>\n",
       "      <td>21.253025</td>\n",
       "    </tr>\n",
       "    <tr>\n",
       "      <th>1</th>\n",
       "      <td>5 DE FEBRERO NORTE</td>\n",
       "      <td>8</td>\n",
       "      <td>24.917360</td>\n",
       "      <td>0.256125</td>\n",
       "      <td>4.574340</td>\n",
       "      <td>0.375372</td>\n",
       "      <td>0</td>\n",
       "      <td>17.008928</td>\n",
       "    </tr>\n",
       "    <tr>\n",
       "      <th>2</th>\n",
       "      <td>5 DE FEBRERO NORTE</td>\n",
       "      <td>16</td>\n",
       "      <td>30.985737</td>\n",
       "      <td>0.592732</td>\n",
       "      <td>4.690857</td>\n",
       "      <td>0.758717</td>\n",
       "      <td>3</td>\n",
       "      <td>34.209217</td>\n",
       "    </tr>\n",
       "    <tr>\n",
       "      <th>3</th>\n",
       "      <td>ACAPULCO</td>\n",
       "      <td>0</td>\n",
       "      <td>36.504686</td>\n",
       "      <td>0.421983</td>\n",
       "      <td>4.796825</td>\n",
       "      <td>0.758302</td>\n",
       "      <td>3</td>\n",
       "      <td>18.199245</td>\n",
       "    </tr>\n",
       "    <tr>\n",
       "      <th>4</th>\n",
       "      <td>ACAPULCO</td>\n",
       "      <td>8</td>\n",
       "      <td>26.070928</td>\n",
       "      <td>0.289303</td>\n",
       "      <td>4.596490</td>\n",
       "      <td>0.415718</td>\n",
       "      <td>0</td>\n",
       "      <td>17.977243</td>\n",
       "    </tr>\n",
       "  </tbody>\n",
       "</table>\n",
       "</div>"
      ],
      "text/plain": [
       "     etie_nomtienda_0  Fin de captura  Sum_Cant piezas  Lead_Time_x  \\\n",
       "0  5 DE FEBRERO NORTE               0        23.995861     0.561723   \n",
       "1  5 DE FEBRERO NORTE               8        24.917360     0.256125   \n",
       "2  5 DE FEBRERO NORTE              16        30.985737     0.592732   \n",
       "3            ACAPULCO               0        36.504686     0.421983   \n",
       "4            ACAPULCO               8        26.070928     0.289303   \n",
       "\n",
       "   Mano de Obra  Lead_Time_y   Clasifica2   Horas Estimadas Para Entregar  \n",
       "0      4.556647     0.885543             0                      21.253025  \n",
       "1      4.574340     0.375372             0                      17.008928  \n",
       "2      4.690857     0.758717             3                      34.209217  \n",
       "3      4.796825     0.758302             3                      18.199245  \n",
       "4      4.596490     0.415718             0                      17.977243  "
      ]
     },
     "execution_count": 30,
     "metadata": {},
     "output_type": "execute_result"
    },
    {
     "data": {
      "image/png": "[encoded data removed]",
      "text/plain": [
       "<Figure size 432x288 with 1 Axes>"
      ]
     },
     "metadata": {
      "needs_background": "light"
     },
     "output_type": "display_data"
    }
   ],
   "source": [
    "from sklearn.cluster import KMeans\n",
    "kmeans = KMeans(n_clusters=4)\n",
    "kmeans.fit(Ya)\n",
    "predicted_clusters = kmeans.predict(Ya)\n",
    "centers = kmeans.cluster_centers_\n",
    "labels = kmeans.labels_\n",
    "import numpy as np\n",
    "labels = np.array(labels)\n",
    "plt.scatter(Ya[:, 0], labels, c=predicted_clusters, s=50, cmap='viridis')\n",
    "#plt.show()\n",
    "print(centers)\n",
    "print(labels.shape)\n",
    "from sklearn.metrics import classification_report\n",
    "import sys\n",
    "np.set_printoptions(threshold=sys.maxsize)\n",
    "print(labels)\n",
    "dfa[' Clasifica2 ']=labels\n",
    "dfa = dfa.reset_index()\n",
    "dfa['Horas Estimadas Para Entregar']=dfa['Fin de captura']+dfa['Lead_Time_y']*24\n",
    "export_csv = dfa.to_csv (r'RegressionByLifts.csv', index = True, header=True)\n",
    "dfa.head(5)"
   ]
  },
  {
   "cell_type": "code",
   "execution_count": 31,
   "metadata": {},
   "outputs": [
    {
     "name": "stdout",
     "output_type": "stream",
     "text": [
      "Weight coefficients:  [[0.00253018]]\n",
      "y-axis intercept:  [0.39575456]\n",
      "                            OLS Regression Results                            \n",
      "==============================================================================\n",
      "Dep. Variable:                      y   R-squared:                       0.006\n",
      "Model:                            OLS   Adj. R-squared:                  0.004\n",
      "Method:                 Least Squares   F-statistic:                     2.763\n",
      "Date:                Tue, 12 Nov 2019   Prob (F-statistic):             0.0972\n",
      "Time:                        10:48:35   Log-Likelihood:                 162.56\n",
      "No. Observations:                 477   AIC:                            -321.1\n",
      "Df Residuals:                     475   BIC:                            -312.8\n",
      "Df Model:                           1                                         \n",
      "Covariance Type:            nonrobust                                         \n",
      "==============================================================================\n",
      "                 coef    std err          t      P>|t|      [0.025      0.975]\n",
      "------------------------------------------------------------------------------\n",
      "const          0.3958      0.043      9.229      0.000       0.311       0.480\n",
      "x1             0.0025      0.002      1.662      0.097      -0.000       0.006\n",
      "==============================================================================\n",
      "Omnibus:                       37.879   Durbin-Watson:                   1.925\n",
      "Prob(Omnibus):                  0.000   Jarque-Bera (JB):               44.653\n",
      "Skew:                           0.724   Prob(JB):                     2.01e-10\n",
      "Kurtosis:                       3.384   Cond. No.                         153.\n",
      "==============================================================================\n",
      "\n",
      "Warnings:\n",
      "[1] Standard Errors assume that the covariance matrix of the errors is correctly specified.\n",
      "Normality Test of Error Statistics=0.962, p=0.000\n",
      "Normality Test of Error Statistics=0.935, p=0.000\n",
      "Mean Squared Error (MSE): 0.02961539921269894\n",
      "R-squared (R2 ): 0.005782311609334956\n"
     ]
    }
   ],
   "source": [
    "X = dfa['Sum_Cant piezas'].values.reshape(-1, 1)\n",
    "y = dfa['Lead_Time_x'].values.reshape(-1, 1)\n",
    "model = LinearRegression()\n",
    "model.fit(X, y)\n",
    "predictions = model.predict(X)\n",
    "print('Weight coefficients: ', model.coef_)\n",
    "print('y-axis intercept: ', model.intercept_) \n",
    "mse = mean_squared_error(y, predictions)\n",
    "r2 = r2_score(y, predictions)\n",
    "X2 = sm.add_constant(X)\n",
    "est = sm.OLS(y, X2)\n",
    "est2 = est.fit()\n",
    "residuals = est2.fittedvalues\n",
    "Error_Frame= pd.DataFrame(residuals)-pd.DataFrame(y)\n",
    "statE, pE = shapiro(Error_Frame) \n",
    "stat, p = shapiro(X) \n",
    "print(est2.summary())\n",
    "print('Normality Test of Error Statistics=%.3f, p=%.3f' % (statE, pE) )\n",
    "print('Normality Test of Error Statistics=%.3f, p=%.3f' % (stat, p) )\n",
    "print(f\"Mean Squared Error (MSE): {mse}\")\n",
    "print(f\"R-squared (R2 ): {r2}\")"
   ]
  },
  {
   "cell_type": "code",
   "execution_count": 32,
   "metadata": {
    "scrolled": false
   },
   "outputs": [
    {
     "data": {
      "text/html": [
       "<div>\n",
       "<style scoped>\n",
       "    .dataframe tbody tr th:only-of-type {\n",
       "        vertical-align: middle;\n",
       "    }\n",
       "\n",
       "    .dataframe tbody tr th {\n",
       "        vertical-align: top;\n",
       "    }\n",
       "\n",
       "    .dataframe thead th {\n",
       "        text-align: right;\n",
       "    }\n",
       "</style>\n",
       "<table border=\"1\" class=\"dataframe\">\n",
       "  <thead>\n",
       "    <tr style=\"text-align: right;\">\n",
       "      <th></th>\n",
       "      <th>Date</th>\n",
       "      <th>etie_nomtienda_0</th>\n",
       "      <th>Determinante</th>\n",
       "      <th>Asociados por hora</th>\n",
       "      <th>Fin de captura</th>\n",
       "    </tr>\n",
       "  </thead>\n",
       "  <tbody>\n",
       "    <tr>\n",
       "      <th>0</th>\n",
       "      <td>2019-08-01</td>\n",
       "      <td>0</td>\n",
       "      <td>2944.61039</td>\n",
       "      <td>0.0</td>\n",
       "      <td>0</td>\n",
       "    </tr>\n",
       "    <tr>\n",
       "      <th>3186</th>\n",
       "      <td>2019-08-10</td>\n",
       "      <td>0</td>\n",
       "      <td>2944.61039</td>\n",
       "      <td>0.0</td>\n",
       "      <td>0</td>\n",
       "    </tr>\n",
       "    <tr>\n",
       "      <th>22833</th>\n",
       "      <td>2019-10-07</td>\n",
       "      <td>0</td>\n",
       "      <td>2944.61039</td>\n",
       "      <td>0.0</td>\n",
       "      <td>0</td>\n",
       "    </tr>\n",
       "    <tr>\n",
       "      <th>23187</th>\n",
       "      <td>2019-10-08</td>\n",
       "      <td>0</td>\n",
       "      <td>2944.61039</td>\n",
       "      <td>0.0</td>\n",
       "      <td>0</td>\n",
       "    </tr>\n",
       "    <tr>\n",
       "      <th>23541</th>\n",
       "      <td>2019-10-09</td>\n",
       "      <td>0</td>\n",
       "      <td>2944.61039</td>\n",
       "      <td>0.0</td>\n",
       "      <td>0</td>\n",
       "    </tr>\n",
       "  </tbody>\n",
       "</table>\n",
       "</div>"
      ],
      "text/plain": [
       "            Date etie_nomtienda_0  Determinante  Asociados por hora  \\\n",
       "0     2019-08-01                0    2944.61039                 0.0   \n",
       "3186  2019-08-10                0    2944.61039                 0.0   \n",
       "22833 2019-10-07                0    2944.61039                 0.0   \n",
       "23187 2019-10-08                0    2944.61039                 0.0   \n",
       "23541 2019-10-09                0    2944.61039                 0.0   \n",
       "\n",
       "       Fin de captura  \n",
       "0                   0  \n",
       "3186                0  \n",
       "22833               0  \n",
       "23187               0  \n",
       "23541               0  "
      ]
     },
     "execution_count": 32,
     "metadata": {},
     "output_type": "execute_result"
    }
   ],
   "source": [
    "import datetime as dt\n",
    "df00 = pd.read_csv('asociados x hora.csv',parse_dates=['Fecha'], dayfirst=True)\n",
    "df00['Date'] = pd.to_datetime(df00['Fecha'].apply(str)+' '+df00['Hora de entrada'])\n",
    "df00['Date'] = pd.to_datetime(df00['Date'], format= '%d/%m/%Y %H:%M:%S')\n",
    "\n",
    "df00=df00.set_index('Date').groupby([pd.Grouper(freq='8H'), 'etie_nomtienda_0']).mean()\n",
    "df00.reset_index(drop=False, inplace=True)\n",
    "def hr_func(ts):\n",
    "    return ts.hour\n",
    "df00['Fin de captura']= df00['Date'].apply(hr_func)\n",
    "df00=df00.sort_values(['etie_nomtienda_0'], ascending=[True])\n",
    "df00=df00.sort_values(['etie_nomtienda_0', 'Fin de captura'], ascending=[True, True])\n",
    "pd.set_option('display.max_rows', None)\n",
    "df00.head(5)"
   ]
  },
  {
   "cell_type": "code",
   "execution_count": 33,
   "metadata": {
    "scrolled": true
   },
   "outputs": [
    {
     "data": {
      "text/html": [
       "<div>\n",
       "<style scoped>\n",
       "    .dataframe tbody tr th:only-of-type {\n",
       "        vertical-align: middle;\n",
       "    }\n",
       "\n",
       "    .dataframe tbody tr th {\n",
       "        vertical-align: top;\n",
       "    }\n",
       "\n",
       "    .dataframe thead th {\n",
       "        text-align: right;\n",
       "    }\n",
       "</style>\n",
       "<table border=\"1\" class=\"dataframe\">\n",
       "  <thead>\n",
       "    <tr style=\"text-align: right;\">\n",
       "      <th></th>\n",
       "      <th>index</th>\n",
       "      <th>Fin de captura</th>\n",
       "      <th>etie_nomtienda_0</th>\n",
       "      <th>Mano de Obra</th>\n",
       "      <th>Date</th>\n",
       "      <th>Determinante</th>\n",
       "      <th>Asociados por hora</th>\n",
       "    </tr>\n",
       "  </thead>\n",
       "  <tbody>\n",
       "    <tr>\n",
       "      <th>75</th>\n",
       "      <td>3</td>\n",
       "      <td>0</td>\n",
       "      <td>ACAPULCO</td>\n",
       "      <td>4.796825</td>\n",
       "      <td>2019-08-01</td>\n",
       "      <td>2349.0</td>\n",
       "      <td>1.250</td>\n",
       "    </tr>\n",
       "    <tr>\n",
       "      <th>66</th>\n",
       "      <td>3</td>\n",
       "      <td>0</td>\n",
       "      <td>ACAPULCO</td>\n",
       "      <td>4.796825</td>\n",
       "      <td>2019-08-02</td>\n",
       "      <td>2349.0</td>\n",
       "      <td>0.875</td>\n",
       "    </tr>\n",
       "    <tr>\n",
       "      <th>12</th>\n",
       "      <td>3</td>\n",
       "      <td>0</td>\n",
       "      <td>ACAPULCO</td>\n",
       "      <td>4.796825</td>\n",
       "      <td>2019-08-03</td>\n",
       "      <td>2349.0</td>\n",
       "      <td>1.125</td>\n",
       "    </tr>\n",
       "    <tr>\n",
       "      <th>41</th>\n",
       "      <td>3</td>\n",
       "      <td>0</td>\n",
       "      <td>ACAPULCO</td>\n",
       "      <td>4.796825</td>\n",
       "      <td>2019-08-04</td>\n",
       "      <td>2349.0</td>\n",
       "      <td>1.250</td>\n",
       "    </tr>\n",
       "    <tr>\n",
       "      <th>60</th>\n",
       "      <td>3</td>\n",
       "      <td>0</td>\n",
       "      <td>ACAPULCO</td>\n",
       "      <td>4.796825</td>\n",
       "      <td>2019-08-05</td>\n",
       "      <td>2349.0</td>\n",
       "      <td>1.000</td>\n",
       "    </tr>\n",
       "  </tbody>\n",
       "</table>\n",
       "</div>"
      ],
      "text/plain": [
       "    index  Fin de captura etie_nomtienda_0  Mano de Obra       Date  \\\n",
       "75      3               0         ACAPULCO      4.796825 2019-08-01   \n",
       "66      3               0         ACAPULCO      4.796825 2019-08-02   \n",
       "12      3               0         ACAPULCO      4.796825 2019-08-03   \n",
       "41      3               0         ACAPULCO      4.796825 2019-08-04   \n",
       "60      3               0         ACAPULCO      4.796825 2019-08-05   \n",
       "\n",
       "    Determinante  Asociados por hora  \n",
       "75        2349.0               1.250  \n",
       "66        2349.0               0.875  \n",
       "12        2349.0               1.125  \n",
       "41        2349.0               1.250  \n",
       "60        2349.0               1.000  "
      ]
     },
     "execution_count": 33,
     "metadata": {},
     "output_type": "execute_result"
    }
   ],
   "source": [
    "df01=dfa[['Fin de captura','etie_nomtienda_0','Mano de Obra']]\n",
    "df01.reset_index(drop=False, inplace=True)\n",
    "df01 = pd.merge(df01,df00, how='inner', on=['etie_nomtienda_0', 'Fin de captura'])\n",
    "df01=df01.sort_values(['etie_nomtienda_0'], ascending=[True])\n",
    "df01=df01.sort_values(['etie_nomtienda_0', 'Fin de captura', 'Date'], ascending=[True, True, True])\n",
    "df01.head(5)"
   ]
  },
  {
   "cell_type": "code",
   "execution_count": 47,
   "metadata": {
    "scrolled": true
   },
   "outputs": [
    {
     "data": {
      "text/plain": [
       "<matplotlib.axes._subplots.AxesSubplot at 0x197885c9ba8>"
      ]
     },
     "execution_count": 47,
     "metadata": {},
     "output_type": "execute_result"
    },
    {
     "data": {
      "image/png": "[encoded data removed]",
      "text/plain": [
       "<Figure size 720x360 with 1 Axes>"
      ]
     },
     "metadata": {
      "needs_background": "light"
     },
     "output_type": "display_data"
    }
   ],
   "source": [
    "df01.loc[df01['etie_nomtienda_0']=='ACAPULCO'].plot(x='Date', y=['Mano de Obra', 'Asociados por hora'], figsize=(10,5),\n",
    "                                                    grid=True)"
   ]
  },
  {
   "cell_type": "code",
   "execution_count": 35,
   "metadata": {},
   "outputs": [
    {
     "data": {
      "image/png": "[encoded data removed]",
      "text/plain": [
       "<Figure size 432x288 with 1 Axes>"
      ]
     },
     "metadata": {
      "needs_background": "light"
     },
     "output_type": "display_data"
    }
   ],
   "source": [
    "from sklearn.cluster import KMeans\n",
    "Y01=df01['Mano de Obra'].values.reshape(-1, 1)\n",
    "Sum_of_squared_distances = []\n",
    "K = range(1,15)\n",
    "for k in K:\n",
    "    km = KMeans(n_clusters=k)\n",
    "    km = km.fit(Y01)\n",
    "    Sum_of_squared_distances.append(km.inertia_)\n",
    "plt.plot(K, Sum_of_squared_distances, 'bx-')\n",
    "plt.xlabel('k')\n",
    "plt.ylabel('Sum_of_squared_distances')\n",
    "plt.title('Elbow Method For Optimal k')\n",
    "plt.show()"
   ]
  },
  {
   "cell_type": "code",
   "execution_count": 50,
   "metadata": {
    "scrolled": false
   },
   "outputs": [
    {
     "name": "stdout",
     "output_type": "stream",
     "text": [
      "[[4.62975351]\n",
      " [4.49936304]\n",
      " [4.74211998]\n",
      " [5.24920714]]\n",
      "(31758,)\n"
     ]
    },
    {
     "data": {
      "text/html": [
       "<div>\n",
       "<style scoped>\n",
       "    .dataframe tbody tr th:only-of-type {\n",
       "        vertical-align: middle;\n",
       "    }\n",
       "\n",
       "    .dataframe tbody tr th {\n",
       "        vertical-align: top;\n",
       "    }\n",
       "\n",
       "    .dataframe thead th {\n",
       "        text-align: right;\n",
       "    }\n",
       "</style>\n",
       "<table border=\"1\" class=\"dataframe\">\n",
       "  <thead>\n",
       "    <tr style=\"text-align: right;\">\n",
       "      <th></th>\n",
       "      <th>index</th>\n",
       "      <th>Fin de captura</th>\n",
       "      <th>etie_nomtienda_0</th>\n",
       "      <th>Mano de Obra</th>\n",
       "      <th>Date</th>\n",
       "      <th>Determinante</th>\n",
       "      <th>Asociados por hora</th>\n",
       "      <th>Clasifica2</th>\n",
       "    </tr>\n",
       "  </thead>\n",
       "  <tbody>\n",
       "    <tr>\n",
       "      <th>75</th>\n",
       "      <td>3</td>\n",
       "      <td>0</td>\n",
       "      <td>ACAPULCO</td>\n",
       "      <td>4.796825</td>\n",
       "      <td>2019-08-01</td>\n",
       "      <td>2349.0</td>\n",
       "      <td>1.250</td>\n",
       "      <td>2</td>\n",
       "    </tr>\n",
       "    <tr>\n",
       "      <th>66</th>\n",
       "      <td>3</td>\n",
       "      <td>0</td>\n",
       "      <td>ACAPULCO</td>\n",
       "      <td>4.796825</td>\n",
       "      <td>2019-08-02</td>\n",
       "      <td>2349.0</td>\n",
       "      <td>0.875</td>\n",
       "      <td>2</td>\n",
       "    </tr>\n",
       "    <tr>\n",
       "      <th>12</th>\n",
       "      <td>3</td>\n",
       "      <td>0</td>\n",
       "      <td>ACAPULCO</td>\n",
       "      <td>4.796825</td>\n",
       "      <td>2019-08-03</td>\n",
       "      <td>2349.0</td>\n",
       "      <td>1.125</td>\n",
       "      <td>2</td>\n",
       "    </tr>\n",
       "    <tr>\n",
       "      <th>41</th>\n",
       "      <td>3</td>\n",
       "      <td>0</td>\n",
       "      <td>ACAPULCO</td>\n",
       "      <td>4.796825</td>\n",
       "      <td>2019-08-04</td>\n",
       "      <td>2349.0</td>\n",
       "      <td>1.250</td>\n",
       "      <td>2</td>\n",
       "    </tr>\n",
       "    <tr>\n",
       "      <th>60</th>\n",
       "      <td>3</td>\n",
       "      <td>0</td>\n",
       "      <td>ACAPULCO</td>\n",
       "      <td>4.796825</td>\n",
       "      <td>2019-08-05</td>\n",
       "      <td>2349.0</td>\n",
       "      <td>1.000</td>\n",
       "      <td>2</td>\n",
       "    </tr>\n",
       "  </tbody>\n",
       "</table>\n",
       "</div>"
      ],
      "text/plain": [
       "    index  Fin de captura etie_nomtienda_0  Mano de Obra       Date  \\\n",
       "75      3               0         ACAPULCO      4.796825 2019-08-01   \n",
       "66      3               0         ACAPULCO      4.796825 2019-08-02   \n",
       "12      3               0         ACAPULCO      4.796825 2019-08-03   \n",
       "41      3               0         ACAPULCO      4.796825 2019-08-04   \n",
       "60      3               0         ACAPULCO      4.796825 2019-08-05   \n",
       "\n",
       "    Determinante  Asociados por hora   Clasifica2   \n",
       "75        2349.0               1.250             2  \n",
       "66        2349.0               0.875             2  \n",
       "12        2349.0               1.125             2  \n",
       "41        2349.0               1.250             2  \n",
       "60        2349.0               1.000             2  "
      ]
     },
     "execution_count": 50,
     "metadata": {},
     "output_type": "execute_result"
    },
    {
     "data": {
      "image/png": "[encoded data removed]",
      "text/plain": [
       "<Figure size 432x288 with 1 Axes>"
      ]
     },
     "metadata": {
      "needs_background": "light"
     },
     "output_type": "display_data"
    }
   ],
   "source": [
    "from sklearn.cluster import KMeans\n",
    "kmeans = KMeans(n_clusters=4)\n",
    "kmeans.fit(Y01)\n",
    "predicted_clusters = kmeans.predict(Y01)\n",
    "centers = kmeans.cluster_centers_\n",
    "labels = kmeans.labels_\n",
    "import numpy as np\n",
    "labels = np.array(labels)\n",
    "plt.scatter(Y01[:, 0], labels, c=predicted_clusters, s=50, cmap='viridis')\n",
    "print(centers)\n",
    "print(labels.shape)\n",
    "from sklearn.metrics import classification_report\n",
    "import sys\n",
    "np.set_printoptions(threshold=sys.maxsize)\n",
    "df01[' Clasifica2 ']=labels\n",
    "export_csv = df01.to_csv (r'RegressionByLiftsAsoc.csv', index = True, header=True)\n",
    "df01.head(5)"
   ]
  },
  {
   "cell_type": "code",
   "execution_count": 51,
   "metadata": {},
   "outputs": [
    {
     "name": "stdout",
     "output_type": "stream",
     "text": [
      "     datetime    branch  shift  fcst_employee  volumen  real_employee\n",
      "75 2019-08-01  ACAPULCO      0       4.796825        2          1.250\n",
      "66 2019-08-02  ACAPULCO      0       4.796825        2          0.875\n",
      "12 2019-08-03  ACAPULCO      0       4.796825        2          1.125\n",
      "41 2019-08-04  ACAPULCO      0       4.796825        2          1.250\n",
      "60 2019-08-05  ACAPULCO      0       4.796825        2          1.000\n"
     ]
    }
   ],
   "source": [
    "df03 = df01\n",
    "df03.reset_index(drop=True)\n",
    "df03 = df03.rename(columns={\"Date\": \"datetime\", \"etie_nomtienda_0\": \"branch\", \"Fin de captura\": \"shift\",\n",
    "                            \"Mano de Obra\": \"fcst_employee\",  \" Clasifica2 \": \"volumen\",  \n",
    "                            \"Asociados por hora\": \"real_employee\"})\n",
    "df03 = df03[[\"datetime\",\"branch\",\"shift\",\"fcst_employee\",\"volumen\",\"real_employee\"]]\n",
    "print(df03.head(5))\n",
    "df03.to_json(\"consolidated_json.js\", orient=\"records\")"
   ]
  },
  {
   "cell_type": "code",
   "execution_count": null,
   "metadata": {},
   "outputs": [],
   "source": []
  }
 ],
 "metadata": {
  "kernelspec": {
   "display_name": "Python 3",
   "language": "python",
   "name": "python3"
  },
  "language_info": {
   "codemirror_mode": {
    "name": "ipython",
    "version": 3
   },
   "file_extension": ".py",
   "mimetype": "text/x-python",
   "name": "python",
   "nbconvert_exporter": "python",
   "pygments_lexer": "ipython3",
   "version": "3.7.1"
  }
 },
 "nbformat": 4,
 "nbformat_minor": 2
}
